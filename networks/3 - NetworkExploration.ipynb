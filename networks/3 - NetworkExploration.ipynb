{
 "cells": [
  {
   "cell_type": "code",
   "execution_count": 3,
   "metadata": {},
   "outputs": [],
   "source": [
    "import pandas as pd\n",
    "from tqdm.auto import tqdm\n",
    "import numpy as np\n",
    "from pathlib import Path\n",
    "import gzip\n",
    "from collections import Counter\n",
    "from sklearn.metrics.pairwise import cosine_similarity\n",
    "from sklearn.feature_extraction.text import TfidfTransformer\n",
    "from scipy.sparse import csr_matrix\n",
    "import igraph as ig\n",
    "import xnetwork as xn\n",
    "import re\n",
    "tqdm.pandas()"
   ]
  },
  {
   "cell_type": "code",
   "execution_count": 45,
   "metadata": {},
   "outputs": [],
   "source": [
    "datasetName = \"debate2024_Jun_bluesky\"\n",
    "dataPath = Path(\"Data\")\n",
    "networksPath = dataPath/\"Networks\""
   ]
  },
  {
   "cell_type": "code",
   "execution_count": 46,
   "metadata": {},
   "outputs": [],
   "source": [
    "with gzip.open(dataPath / f\"{datasetName}.feather.gz\", 'rb') as f:\n",
    "    df = pd.read_feather(f)"
   ]
  },
  {
   "cell_type": "code",
   "execution_count": 47,
   "metadata": {},
   "outputs": [],
   "source": [
    "g = xn.load(networksPath/f\"{datasetName}_corepost.xnet\")"
   ]
  },
  {
   "cell_type": "code",
   "execution_count": 48,
   "metadata": {},
   "outputs": [
    {
     "data": {
      "text/plain": [
       "(4808, 173448)"
      ]
     },
     "execution_count": 48,
     "metadata": {},
     "output_type": "execute_result"
    }
   ],
   "source": [
    "g.vcount(), g.ecount()"
   ]
  },
  {
   "cell_type": "code",
   "execution_count": 49,
   "metadata": {},
   "outputs": [
    {
     "data": {
      "text/plain": [
       "[8.751000405670558,\n",
       " 9.070030278913151,\n",
       " 9.861308996650004,\n",
       " 1.8315453344354662,\n",
       " 5.142834843120943,\n",
       " 4.547724138141994,\n",
       " 16.716858165992786,\n",
       " 6.286531523091272,\n",
       " 12.76438024671198,\n",
       " 27.40263172521967]"
      ]
     },
     "execution_count": 49,
     "metadata": {},
     "output_type": "execute_result"
    }
   ],
   "source": [
    "g.strength(weights=\"weight\")[:10]"
   ]
  },
  {
   "cell_type": "code",
   "execution_count": 50,
   "metadata": {},
   "outputs": [
    {
     "data": {
      "text/plain": [
       "['Label', 'MostUniqueRepost', 'Reposts count', 'RepostsCount', 'SampleReposts']"
      ]
     },
     "execution_count": 50,
     "metadata": {},
     "output_type": "execute_result"
    }
   ],
   "source": [
    "g.vs.attributes()"
   ]
  },
  {
   "cell_type": "code",
   "execution_count": 53,
   "metadata": {},
   "outputs": [
    {
     "data": {
      "text/plain": [
       "['\"After many of Biden’s accomplishments have been dismantled and erased by right wing courts, it will become clear that his inability to get to the right place on those two issues was one of his most deadly miscalculations,\" writes @hamiltonnolan.bsky.social. www.hamiltonnolan.com/p/the-end-of...',\n",
       " 'The \"Drop out Biden\" discourse is especially braindead because none of the people pushing it even think he\\'s not capable of doing the job. They just think he\\'s not capable of *winning*, a judgment they have rushed to without even bothering to wait a week for polls to come in',\n",
       " 'At a Turning Point Action conference in Detroit, 8,000 people packed into a convention hall to hear from Donald Trump. But first, there was a word from a sponsor: Alexander Spellane, a precious metals salesman being sued by federal regulators for fraud. nyti.ms/3XyWu49',\n",
       " \"President Biden’s campaign said on Tuesday that it had raised $127 million in June together with the Democratic Party. It's a sign of strength in a month that ended with the first presidential debate casting doubts on the president’s re-election effort.\",\n",
       " \"Will Trump be actively worse for trans folks in America? Objectively yes.\\\\n\\\\nBut don't ask us to pretend like these ghouls actually give a shit about us as more than a talking point\",\n",
       " 'I’m not surprised people just don’t realize the risks here. Political media has gone to extraordinary lengths to normalize Trump and the antidemocratic turn of the Republican Party, often consciously participating in the lies to maintain the know-nothing stance that pretends there is no context.',\n",
       " 'the bad news for all of us is that even if Biden is old and had a bad night, democracy is still something we have to *do*. there are still lots of other causes and candidates to strengthen democracy. this includes work that\\'s not obviously \"political,\" like food banks or civic life.',\n",
       " 'Wild that America could give the nuclear codes to a guy too corrupt to sell booze in… [checks notes] … ~New Jersey~',\n",
       " 'any scenario in which joe biden is not the nominee *and neither is kamala harris* is pure fanfic',\n",
       " 'The candidate is always responsible for the final decisions, but Biden should fire every single person involved in prepping him. That shitshow was what happens when you prep thinking people care how many Pell grants you gave out or how close you came to the Paris climate targets.']"
      ]
     },
     "execution_count": 53,
     "metadata": {},
     "output_type": "execute_result"
    }
   ],
   "source": [
    "g.vs[\"MostUniqueRepost\"][:10]"
   ]
  },
  {
   "cell_type": "code",
   "execution_count": 54,
   "metadata": {},
   "outputs": [
    {
     "data": {
      "text/plain": [
       "'did:plc:boopgqnkg2inpleusxo7kj4l'"
      ]
     },
     "execution_count": 54,
     "metadata": {},
     "output_type": "execute_result"
    }
   ],
   "source": [
    "gstrenghts = g.strength(weights=\"weight\")\n",
    "userHighestStrength = g.vs[\"Label\"][np.argmax(gstrenghts)]\n",
    "userHighestStrength"
   ]
  },
  {
   "cell_type": "code",
   "execution_count": 55,
   "metadata": {},
   "outputs": [
    {
     "data": {
      "text/plain": [
       "'did:plc:boopgqnkg2inpleusxo7kj4l'"
      ]
     },
     "execution_count": 55,
     "metadata": {},
     "output_type": "execute_result"
    }
   ],
   "source": [
    "centrality = g.betweenness()\n",
    "userHighestCentrality = g.vs[\"Label\"][np.argmax(centrality)]\n",
    "userHighestCentrality"
   ]
  },
  {
   "cell_type": "code",
   "execution_count": 25,
   "metadata": {},
   "outputs": [
    {
     "data": {
      "text/plain": [
       "array(['“No text ends up as it began. None escapes history,” Rodgers writes. “In the very act of reading a text, cherishing, possessing or rejecting it, its meaning is remade. It is, inescapably, always under construction.” www.nytimes.com/2024/07/02/o...',\n",
       "       'Roberts rules for Trump. Absolute immunity for “official acts.” Vacated and remanded. Party line case. Both Sotomayor and Jackson dissent. Fuck this. www.supremecourt.gov/opinions/23p...',\n",
       "       'NYT: “I am worried about the image projected (by the #debate) to the outside world,” Sergey Radchenko, a historian at the Johns Hopkins School of Advanced International Studies, wrote on social media. “It is not an image of #leadership. It is an image of terminal #decline.”',\n",
       "       '“Kenneth Chenault, the well-known former head of American Express, said he’s been telling CEOs that our democracy is ‘facing an existential threat,’ and that for business to function, the #ruleoflaw is ‘absolutely sacrosanct’.” newrepublic.com/article/1831...',\n",
       "       'This is by far the best piece I’ve read on the #Biden-Trump #debate, and one of the best pieces about anything I’ve read in a while',\n",
       "       '“The somewhat hysterical anti-#Biden reactions to the #Biden-Trump presidential #debate on CNN suggest that we still have an essentially olympic and theatrical relationship to #politics, that is, a politics of performance and (implicit) athleticism” victorshammas.substack.com/p/the-nexus-...',\n",
       "       'Judge Delays #Trump’s Sentencing Until Sept. 18 After Immunity Claim www.nytimes.com/2024/07/02/n...',\n",
       "       '“Focusing on Winthrop’s sermon as #America’s moral beginning helps locate that starting point in the glossy goodness of the #Pilgrims and godliness of the #Puritans rather than, say, the commercialism and slaveholding of #Virginia’s early settlers.” www.nytimes.com/2024/07/02/o...',\n",
       "       'In this instance, less #cowbell would have been better … www.nytimes.com/2024/07/01/n...',\n",
       "       'NYT: Viewership for the #debate was down 30 percent from the first #Biden-Trump debate in 2020, and it was the lowest-rated general-election debate since 2004'],\n",
       "      dtype=object)"
      ]
     },
     "execution_count": 25,
     "metadata": {},
     "output_type": "execute_result"
    }
   ],
   "source": [
    "# sample posts for user with highest strength\n",
    "df[df[\"user_id\"] == userHighestStrength].sample(10)[\"text\"].values"
   ]
  },
  {
   "cell_type": "code",
   "execution_count": 43,
   "metadata": {},
   "outputs": [
    {
     "name": "stdout",
     "output_type": "stream",
     "text": [
      "did:plc:m77ecru537mpjw2vtvkahve7 did:plc:xnkxdg6iiey2vnknyygatbij 0.9591198545584751\n"
     ]
    }
   ],
   "source": [
    "# Most similar pair of users (high weight)\n",
    "mostSimilarEdgeIndices = np.argsort(g.es[\"weight\"])\n",
    "edgeIndex = mostSimilarEdgeIndices[-3]\n",
    "user1Index = g.es[edgeIndex].source\n",
    "user2Index = g.es[edgeIndex].target\n",
    "\n",
    "user1 = g.vs[\"Label\"][user1Index]\n",
    "user2 = g.vs[\"Label\"][user2Index]\n",
    "print(user1, user2, g.es[edgeIndex][\"weight\"])"
   ]
  },
  {
   "cell_type": "code",
   "execution_count": 44,
   "metadata": {},
   "outputs": [
    {
     "data": {
      "text/plain": [
       "array([\"Mod: Let's talk about immigration.\\n\\nMe: Why? They're already ignoring you.\\n\\n#debate\",\n",
       "       'Mod: The Israel-Gaza situation. President Biden, what additional leverage will you use to get Israel to end the war?\\n\\nBiden: I put forward a plan and everyone in Hamas and even Bibi himself have accepted my plan.\\n\\nI call BS.\\n\\n#debate',\n",
       "       \"Mod: Hey Trump, Putin says he'll only stop the Ukraine invasion if you do everything he wants. You game?\\n\\nTrump: Look, every single person in the military hates this guy [theatrically points to Biden]. They hate him! I bet he encouraged Russia to go in! \\n\\n#debatef\",\n",
       "       \"Trump: The secretary of NATO said I was doing the most incredible job he'd ever seen. Why isn't he making NATO put up all the money? We have an ocean in between us and them! \\n\\n#debate\",\n",
       "       \"Mod: I asked a specific question...\\n\\nTrump: HE'S A DOODY HEAD!\\n\\nBiden: NUH-UH YOU ARE\\n\\n#debate\"],\n",
       "      dtype=object)"
      ]
     },
     "metadata": {},
     "output_type": "display_data"
    },
    {
     "data": {
      "text/plain": [
       "array(['this really set the tone\\n\\nAnd the Republican strategists on CNN just literally applauded Tapper, Bash & CNN for being \"fair\" to Trump. Which is what they say when reporters act in ways that are strongly pro-GOP.',\n",
       "       'Lawrence O\\'donnell \"lets face it, \\'imagery\\' has taken control of the presidency\\'.. #debate \\nWe\\'ve turned to the most superficial components to decide our politics.',\n",
       "       'That was not good. #debate \\nBiden looks worn out - dammit',\n",
       "       'I know the “cool kids” are posting that they are not going to watch tonight’s debate.  I’m locked in with my family.  \\n\\nYou do you.',\n",
       "       'Trump just steam rolls, runs on.. talks.. rapid fire.. its hard to gauge what he\\'s saying...its tone, manner, control.. dominance. And no one will dissect what hes said.. its just so much.. #debate \\n\"what? What did he say? He sounds strong.. I dunno.. whaddid he say?\" \\nfuck.'],\n",
       "      dtype=object)"
      ]
     },
     "metadata": {},
     "output_type": "display_data"
    }
   ],
   "source": [
    "# 5 samples from these users\n",
    "display(df[df[\"user_id\"] == user1].sample(5)[\"text\"].values)\n",
    "display(df[df[\"user_id\"] == user2].sample(5)[\"text\"].values)"
   ]
  },
  {
   "cell_type": "code",
   "execution_count": 56,
   "metadata": {},
   "outputs": [],
   "source": [
    "g.vs[\"community\"]=g.community_leiden().membership"
   ]
  },
  {
   "cell_type": "code",
   "execution_count": 63,
   "metadata": {},
   "outputs": [],
   "source": [
    "topCommunities = Counter(g.vs[\"community\"]).most_common(10)"
   ]
  },
  {
   "cell_type": "code",
   "execution_count": 64,
   "metadata": {},
   "outputs": [
    {
     "name": "stdout",
     "output_type": "stream",
     "text": [
      "Community 0\n",
      "{'did:plc:222rnvnta2lbl364bog2plxw'}\n",
      "['The more you read yesterday’s immunity decision, the more appalling it gets. My take:\\n\\nwww.nytimes.com/2024/07/02/o...'\n",
      " 'I agree.'\n",
      " 'I don’t think Dems should replace Biden because I don’t like Biden. I think Dems should replace Biden because we must win.\\n\\nBiden is losing right now and doesn’t have the cognitive abilities to turn it around. Kamala or Whitmer would start from a similar baseline, but could campaign actively.'\n",
      " 'Under today’s immunity decision, Biden could order AG Garland to immediately prosecute Thomas and Alito for corruption and insurrection. (Official act). If Garland refuses, Biden can fire him and replace him with someone who will. (Official act) I would suggest Elie Mystal.'\n",
      " 'Biden is clearly suffering from cognitive decline. 72% of Americans believe he can’t do the job. That’s a terrible baseline. It’s also probably true!']\n",
      "Community 1\n",
      "{'did:plc:223yxsx3ifr4vghg36hi3w4a'}\n",
      "[\"i'm getting so, so tired of the doomerism on here, and the press loves covering shit like a horse race instead of explaining fundamentals and what's at play, a job that seems to fall to @golikehellmachine.com on here.\\n\\nso here's a thread about why i'd rather be biden — yes, biden — right now\"\n",
      " \"I think this is the fundamental asymmetry underlying every aspect of the conflict between the parties; you see it in the Senate, in gerrymandering, in the use of executive power\\n\\nI don't want King Biden either, but it's long past time to make the GOP afraid of the consequences of endless escalation\"\n",
      " 'Televised debates are uninformative in the best of times but both these people have been president and neither of them have hidden their plans and I cannot imagine any useful information will come of the whole debacle'\n",
      " 'We’ve had to put so many major life choices on hold because our civil rights are constantly at risk.\\n\\nHaven’t had a vacation in years.\\nCan’t do major repairs on the house.\\nPutting off medical procedures.\\n\\nWe always have to be ready to lose our jobs and critical healthcare.\\nepgn.com/2024/05/15/t...'\n",
      " \"Far be it from me to compliment the Times' political section, but this is a good baseline to send to friends who are lovable morons, vaingloriously checked out, recently awoke from a snakebite-induced coma, or have spent the last half-decade on a well-deserved bender.\"]\n",
      "Community 2\n",
      "{'did:plc:225g4y2e35b4fylvbsbe752f'}\n",
      "['At a Turning Point Action conference in Detroit, 8,000 people packed into a convention hall to hear from Donald Trump. But first, there was a word from a sponsor: Alexander Spellane, a precious metals salesman being sued by federal regulators for fraud. nyti.ms/3XyWu49'\n",
      " 'www.rollingstone.com/politics/pol...'\n",
      " \"I don't think Biden should call Garland to his office and demand he open a criminal investigation immediately against Roberts, Thomas, Alito, Gorsuch, Kavanaugh, Trump, and every executive at Fox News on charges of treason by tomorrow or he's fired, but if he /did/ do that, it wouldn't be criminal\"\n",
      " \"Tom the Dancing Bug from 2019, when the notion of presidential immunity was a laughably ridiculous argument made up by Trump's lawyers.\"\n",
      " 'This is the ball game folks, the authoritarian green light laid out in advance.\\nCongress will not impeach Trump. And SCOTUS now blesses him with extraordinary latitude to do whatever he wants in power.\\nA second administration will not  be constrained by Congress, the courts, the bureaucracy or law.']\n",
      "Community 3\n",
      "{'did:plc:226ihztva757642u4gnz3b6k'}\n",
      "['\\n1972 was the first year that 18-year-olds were able to vote. \\nJoe Biden wasn’t just a 29 yr old candidate for federal Senate office. He was the candidate of the young, too. “The comments of the young volunteers on Biden’s campaign were often one squeak above the equal of a Beatlemaniac.”'\n",
      " 'Even more relevant today than it was when it was first published back in April. \\n\\nwww.weekendreading.net/p/breaking-t...'\n",
      " ''\n",
      " 'Lindsey Graham \"Cracker\" is an embarrassment as a male human being & American. This southern white guy loves the power & money of being a senator on a continuous basis so much he can\\'t bend over enough far enough for tRump or embarrassing Maga types. John McCain would have disowned him by now.'\n",
      " 'Perfect fit for tRump']\n",
      "Community 4\n",
      "{'did:plc:226tf6jh64mdofrbqlgbekqt'}\n",
      "[\"i think it actually is quite reasonable for trans people, squarely in the crosshairs of Project 2025, to be deeply concerned at the thought of what will happen to our lives if Trump (promising federal ban of our health care) wins \\n\\nAnd I don't think cis folks have any place telling us to calm down.\"\n",
      " \"This isn't a debate.\\n\\nIt's a firehose of lies from DJT, with the moderators saying nothing about any of them.\\n\\nThe American public deserves better.\"\n",
      " \"Will Trump be actively worse for trans folks in America? Objectively yes.\\n\\nBut don't ask us to pretend like these ghouls actually give a shit about us as more than a talking point\"\n",
      " '\"Lol, you know what Biden should do? He–\"\\n\\nLook, you already exceeded my suspension of disbelief with your premise.'\n",
      " \"Soooo.....It's illegal to be homeless, and they fucked Chevron. I'm guessing they're going to declare Trump immune from any laws and also King For Life before they fuck off for the weekend.\"]\n",
      "Community 5\n",
      "{'did:plc:22giak3uydgtd4paitk524nl'}\n",
      "[\"This debate is a prime example of how profoundly we are ill equipped to deal w/the rise of authoritarianism.\\n\\nLetting blatant lies fly.\\nDoing nothing to follow up on lies & ignoring questions.\\n\\nNormal rules don't apply.\\nWe need to think--CLEARLY--about the best ways to clear the air & support truth.\"\n",
      " 'Remember how Trump floated the idea that Covid would go away if we just stopped testing for it? People treated that like it was Trump being dumb, but it was actually him articulating his quite savvy, authoritarian way of handling information. Want climate change to go away? Just stop measuring it!'\n",
      " \"Do I think Biden is too old to hold office? Yes. But I'm looking at this as voting for Biden's people and policies. I'm voting for Deb Haaland. I'm voting for Kamala Harris. I'm voting for Jennifer Granholm and Linda Thomas Greenfield. I'm voting for student loan forgiveness and the Green New Deal.\"\n",
      " \"be sure to check back next week for a four-part series titled Frail Old Joe Biden Is So Old That He's Been Old Longer Than We've Been Alive, co-written by the New York Times automotive section's newest intern and Peter Baker's kid.\"\n",
      " 'Amid an increasingly deadly pandemic and an economic crisis - and while offering no alternative health plan - the Trump administration formally calls on the Supreme Court to strike down the Affordable Care Act. At least 20 million Americans face losing their health insurance.']\n",
      "Community 6\n",
      "{'did:plc:22lrjdvse3l6gfsv63k3pyd7'}\n",
      "[\"It's important to note that Trump tried to order this at least twice we know of during his regime.\"\n",
      " 'My favorite debate question came during the 2020 Dem primary debates when (I think?) Julian Castro was asked point-blank \"Scientists project that Miami is one of several major cities in the US likely to be underwater by the end of this century. When would you start mass evacuations?\"'\n",
      " \"(i'm being sarcastic, this is good news). Biden was never going to save us, the presidency is a job but democracy is something we all have to do.\"\n",
      " 'SCOTUS is telling us that it has completely signed on to the project of a second Trump administration, which is establishing an elected autocracy.'\n",
      " \"This is a catastrophe for the Voting Rights Act.\\n\\nIt's now practically unenforceable in AR, IA, MN, MO, NE, ND, & SD.\\n\\nPlaintiffs won't appeal to the Supreme Court, likely fearing it would dismantle the VRA nationwide.\\n\\nThat would let a Trump Justice Department just refuse to enforce the VRA at all\"]\n",
      "Community 7\n",
      "{'did:plc:22qknl7an723rt2kjsbola7u'}\n",
      "['Wild that America could give the nuclear codes to a guy too corrupt to sell booze in… [checks notes] … ~New Jersey~'\n",
      " 'My new one @Slate: \"Trump Immunity Ruling Will Be John Roberts’ Legacy to American Democracy\" \\nIs the Supreme Court obtuse or disingenuous? slate.com/news-and-pol...'\n",
      " 'I was at the Trump Tower Charlottesville press conference. Trump clearly called them \"fine people.\"'\n",
      " 'Former president Donald Trump’s campaign advisers are pushing to significantly simplify and streamline the official platform of the Republican Party, according to a memo obtained by The Washington Post.'\n",
      " 'It’s possible to be angry at the Democrats for fielding Biden and believe a second Trump term will be a disaster. But progressives who think there is some path toward a progressive utopia on the other side of a second Trump term aren’t worth debating.']\n",
      "Community 8\n",
      "{'did:plc:234bcfykbxpzbrbujb7aayay'}\n",
      "['The main thing that concerned me about Biden’s debate performance tonight is that Donald Trump is a convicted felon who tried to overthrow the government'\n",
      " 'Both the “black jobs” remark and using palestinian as a slur are hopefully clarifying as to actual Trump’s ideology and worldview, in contrast with the imaginary trump some people have built up in their heads as the memory of his administration has receded'\n",
      " 'Weirdly Van Jones had the best summary: Biden stuttered but told the truth, Trump was confident and lied endlessly'\n",
      " 'Trump tells his rally crowd Chuck Schumer has “become a Palestinian.” Second time this week he’s used “Palestinian” to describe non-Palestinians he dislikes as if the word is a slur.\\n\\nI remain skeptical of the claim that Trump becoming president next year would improve the lives of Palestinians.'\n",
      " 'any scenario in which joe biden is not the nominee *and neither is kamala harris* is pure fanfic']\n",
      "Community 9\n",
      "{'did:plc:23exa2n7fvpbcwz7myl2ajqh'}\n",
      "['The candidate is always responsible for the final decisions, but Biden should fire every single person involved in prepping him. That shitshow was what happens when you prep thinking people care how many Pell grants you gave out or how close you came to the Paris climate targets.'\n",
      " 'NYT: Joe should quit, he stutters\\n\\nPhilly Inquirer: Trump is a fucking criminal what the fuck are we doing here'\n",
      " 'As usual someone who is very high on the list to be rounded up for a Trump prison camp proudly proclaiming they won’t vote for the party who isn’t going to do just that'\n",
      " 'Maybe I’m wrong but this feels very much like a consistent editorial choice to commission stories on Biden’s age www.mediamatters.org/washington-p...'\n",
      " 'The story of Election 2024 is obviously “will the villainous Trump return to destroy democracy once and for all?” Almost no one - Republicans included - denies this narrative. But the media’s refusal to participate makes it feel more out of “narrative integrity” than journalistic.']\n"
     ]
    }
   ],
   "source": [
    "# Sample posts from each top community\n",
    "for community,_ in topCommunities:\n",
    "    print(f\"Community {community}\")\n",
    "    users = g.vs.select(lambda v: v[\"community\"] == community)\n",
    "    users = set([v[\"Label\"] for v in users])\n",
    "    print(users)\n",
    "    posts = df[df[\"user_id\"].isin(users)].sample(5)[\"text\"].values\n",
    "    print(posts)"
   ]
  },
  {
   "cell_type": "code",
   "execution_count": null,
   "metadata": {},
   "outputs": [],
   "source": []
  }
 ],
 "metadata": {
  "kernelspec": {
   "display_name": "ic2s2_tutorial",
   "language": "python",
   "name": "python3"
  },
  "language_info": {
   "codemirror_mode": {
    "name": "ipython",
    "version": 3
   },
   "file_extension": ".py",
   "mimetype": "text/x-python",
   "name": "python",
   "nbconvert_exporter": "python",
   "pygments_lexer": "ipython3",
   "version": "3.11.9"
  }
 },
 "nbformat": 4,
 "nbformat_minor": 2
}
