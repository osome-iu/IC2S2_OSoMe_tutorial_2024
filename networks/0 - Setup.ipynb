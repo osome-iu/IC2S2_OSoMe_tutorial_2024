{
 "cells": [
  {
   "cell_type": "code",
   "execution_count": 4,
   "metadata": {},
   "outputs": [
    {
     "data": {
      "application/vnd.jupyter.widget-view+json": {
       "model_id": "c2d9f0ad19c14ee28b4c7c45d33ef79d",
       "version_major": 2,
       "version_minor": 0
      },
      "text/plain": [
       "debate2024_Jun_mastodon.feather.gz:   0%|          | 0.00/391M [00:00<?, ?B/s]"
      ]
     },
     "metadata": {},
     "output_type": "display_data"
    },
    {
     "name": "stdout",
     "output_type": "stream",
     "text": [
      "File debate2024_Jun_mastodon.feather.gz downloaded and saved to Data/teste/debate2024_Jun_mastodon.feather.gz\n"
     ]
    },
    {
     "data": {
      "application/vnd.jupyter.widget-view+json": {
       "model_id": "8e513887a9d34200b7b010d2f1b1ced5",
       "version_major": 2,
       "version_minor": 0
      },
      "text/plain": [
       "debate2024_Jun_bluesky.feather.gz:   0%|          | 0.00/36.3M [00:00<?, ?B/s]"
      ]
     },
     "metadata": {},
     "output_type": "display_data"
    },
    {
     "name": "stdout",
     "output_type": "stream",
     "text": [
      "File debate2024_Jun_bluesky.feather.gz downloaded and saved to Data/teste/debate2024_Jun_bluesky.feather.gz\n"
     ]
    }
   ],
   "source": [
    "import requests\n",
    "import os\n",
    "from tqdm.auto import tqdm\n",
    "\n",
    "def download_zenodo_files(doi_or_id, output_dir):\n",
    "    if doi_or_id.startswith(\"10.\"):\n",
    "        api_url = f\"https://zenodo.org/api/records/?q=doi:{doi_or_id}\"\n",
    "    else:\n",
    "        api_url = f\"https://zenodo.org/api/records/{doi_or_id}\"\n",
    "    \n",
    "    response = requests.get(api_url)\n",
    "    response.raise_for_status()\n",
    "    data = response.json()\n",
    "    \n",
    "    if doi_or_id.startswith(\"10.\"):\n",
    "        data = data['hits']['hits'][0]\n",
    "    \n",
    "    os.makedirs(output_dir, exist_ok=True)\n",
    "    \n",
    "    for file_info in data['files']:\n",
    "        file_url = file_info['links']['self']\n",
    "        file_name = file_info['key']\n",
    "        \n",
    "        # Stream the file download\n",
    "        with requests.get(file_url, stream=True) as response:\n",
    "            response.raise_for_status()\n",
    "            total_size = int(response.headers.get('content-length', 0))\n",
    "            chunk_size = 1024\n",
    "            output_path = os.path.join(output_dir, file_name)\n",
    "            with open(output_path, 'wb') as file, tqdm(\n",
    "                total=total_size, unit='B', unit_scale=True, desc=file_name\n",
    "            ) as progress_bar:\n",
    "                for chunk in response.iter_content(chunk_size=chunk_size):\n",
    "                    if chunk:\n",
    "                        file.write(chunk)\n",
    "                        progress_bar.update(len(chunk))\n",
    "        \n",
    "        print(f\"File {file_name} downloaded and saved to {output_path}\")\n",
    "\n",
    "doi_or_id = '10.5281/zenodo.12741436'  \n",
    "output_dir = 'Data'  \n",
    "download_zenodo_files(doi_or_id, output_dir)"
   ]
  }
 ],
 "metadata": {
  "kernelspec": {
   "display_name": "ic2s2_tutorial",
   "language": "python",
   "name": "python3"
  },
  "language_info": {
   "codemirror_mode": {
    "name": "ipython",
    "version": 3
   },
   "file_extension": ".py",
   "mimetype": "text/x-python",
   "name": "python",
   "nbconvert_exporter": "python",
   "pygments_lexer": "ipython3",
   "version": "3.11.9"
  }
 },
 "nbformat": 4,
 "nbformat_minor": 2
}
