{
 "cells": [
  {
   "cell_type": "code",
   "execution_count": 75,
   "metadata": {},
   "outputs": [],
   "source": [
    "import pandas as pd\n",
    "from tqdm.auto import tqdm\n",
    "import numpy as np\n",
    "from pathlib import Path\n",
    "import gzip\n",
    "from collections import Counter\n",
    "from sentence_transformers import SentenceTransformer\n",
    "import os\n",
    "from sklearn.neighbors import NearestNeighbors\n",
    "os.environ['TOKENIZERS_PARALLELISM'] = 'true'\n"
   ]
  },
  {
   "cell_type": "code",
   "execution_count": 76,
   "metadata": {},
   "outputs": [],
   "source": [
    "datasetName = \"debate2024_Jun_bluesky\"\n",
    "dataPath = Path(\"Data\")\n",
    "networksPath = dataPath/\"Networks\"\n",
    "networksPath.mkdir(parents=True, exist_ok=True)\n",
    "bertModelName = 'paraphrase-MiniLM-L6-v2'"
   ]
  },
  {
   "cell_type": "code",
   "execution_count": 77,
   "metadata": {},
   "outputs": [],
   "source": [
    "with gzip.open(dataPath / f\"{datasetName}.feather.gz\", 'rb') as f:\n",
    "    df = pd.read_feather(f)"
   ]
  },
  {
   "cell_type": "code",
   "execution_count": 78,
   "metadata": {},
   "outputs": [],
   "source": [
    "def get_unique_sentences_and_indices(sentences):\n",
    "    unique_sentences = []\n",
    "    sentence_to_index = {}\n",
    "    sentences_indices = []\n",
    "    \n",
    "    for sentence in sentences:\n",
    "        if sentence not in sentence_to_index:\n",
    "            sentence_to_index[sentence] = len(unique_sentences)\n",
    "            unique_sentences.append(sentence)\n",
    "        sentences_indices.append(sentence_to_index[sentence])\n",
    "    \n",
    "    return unique_sentences, sentences_indices\n"
   ]
  },
  {
   "cell_type": "code",
   "execution_count": 79,
   "metadata": {},
   "outputs": [],
   "source": [
    "uniqueSentences, sentenceIndices = get_unique_sentences_and_indices(df['text'])"
   ]
  },
  {
   "cell_type": "code",
   "execution_count": 80,
   "metadata": {},
   "outputs": [
    {
     "data": {
      "text/plain": [
       "125324"
      ]
     },
     "execution_count": 80,
     "metadata": {},
     "output_type": "execute_result"
    }
   ],
   "source": [
    "len(uniqueSentences)"
   ]
  },
  {
   "cell_type": "code",
   "execution_count": 81,
   "metadata": {},
   "outputs": [],
   "source": [
    "model = SentenceTransformer(bertModelName)"
   ]
  },
  {
   "cell_type": "code",
   "execution_count": 82,
   "metadata": {},
   "outputs": [
    {
     "data": {
      "application/vnd.jupyter.widget-view+json": {
       "model_id": "797fce4ea2f34dec94c8bc4d0c1d8c42",
       "version_major": 2,
       "version_minor": 0
      },
      "text/plain": [
       "Batches:   0%|          | 0/3917 [00:00<?, ?it/s]"
      ]
     },
     "metadata": {},
     "output_type": "display_data"
    }
   ],
   "source": [
    "sentence_embeddings = model.encode(uniqueSentences, show_progress_bar=True)\n",
    "# save as compressed numpy\n",
    "np.savez_compressed(dataPath / f\"{datasetName}_embeddings.npz\",\n",
    "                    sentence_embeddings=sentence_embeddings,\n",
    "                    uniqueSentences=uniqueSentences,\n",
    "                    sentenceIndices=sentenceIndices,\n",
    "                    modelName = bertModelName)\n"
   ]
  },
  {
   "cell_type": "code",
   "execution_count": 83,
   "metadata": {},
   "outputs": [],
   "source": [
    "# code to load embeddings\n",
    "with np.load(dataPath / f\"{datasetName}_embeddings.npz\") as data:\n",
    "    sentence_embeddings = data[\"sentence_embeddings\"]\n",
    "    uniqueSentences = data[\"uniqueSentences\"]\n",
    "    sentenceIndices = data[\"sentenceIndices\"]\n",
    "    modelName = data[\"modelName\"]"
   ]
  },
  {
   "cell_type": "code",
   "execution_count": 84,
   "metadata": {},
   "outputs": [],
   "source": [
    "numberNeighbors = 5\n",
    "nnModel = NearestNeighbors(n_neighbors=numberNeighbors, metric='cosine').fit(sentence_embeddings)"
   ]
  },
  {
   "cell_type": "code",
   "execution_count": 102,
   "metadata": {},
   "outputs": [
    {
     "name": "stdout",
     "output_type": "stream",
     "text": [
      "0.06\n",
      "How is President Biden a bad candidate?\n",
      "\n",
      "0.13\n",
      "How is President Biden a shitty person?\n",
      "\n",
      "0.14\n",
      "Breaking News: Trump thinks Biden is a bad president and Biden thinks Trump was a bad president.\n",
      "\n",
      "0.16\n",
      "Biden is also bad but Trump is democracy annihilating bad\n",
      "\n",
      "0.17\n",
      "Biden is one of the most unpopular presidents in modern history and democrats just rolled over and accepted a deranged 81 year old as their guy despite the well documented fact that almost nobody wants Biden to run again.\n",
      "\n"
     ]
    }
   ],
   "source": [
    "# Find the nearest neighbors\n",
    "query = \"Biden is a bad president\"\n",
    "query_embedding = model.encode(query)\n",
    "distances, indices = nnModel.kneighbors([query_embedding])\n",
    "\n",
    "for index,distance in zip(indices[0],distances[0]):\n",
    "    print(f\"{distance:.2f}\")\n",
    "    print(uniqueSentences[index])\n",
    "    print(\"\")"
   ]
  },
  {
   "cell_type": "code",
   "execution_count": 86,
   "metadata": {},
   "outputs": [],
   "source": [
    "sentenceIndex2DataIndices = []\n",
    "for i in range(len(uniqueSentences)):\n",
    "    sentenceIndex2DataIndices.append(set())\n",
    "for i, sentenceIndex in enumerate(sentenceIndices):\n",
    "    sentenceIndex2DataIndices[sentenceIndex].add(i)\n"
   ]
  },
  {
   "cell_type": "code",
   "execution_count": null,
   "metadata": {},
   "outputs": [],
   "source": []
  }
 ],
 "metadata": {
  "kernelspec": {
   "display_name": "ic2s2_tutorial",
   "language": "python",
   "name": "python3"
  },
  "language_info": {
   "codemirror_mode": {
    "name": "ipython",
    "version": 3
   },
   "file_extension": ".py",
   "mimetype": "text/x-python",
   "name": "python",
   "nbconvert_exporter": "python",
   "pygments_lexer": "ipython3",
   "version": "3.11.9"
  }
 },
 "nbformat": 4,
 "nbformat_minor": 2
}
