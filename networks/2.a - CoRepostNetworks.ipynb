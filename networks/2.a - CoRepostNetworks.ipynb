{
 "cells": [
  {
   "cell_type": "code",
   "execution_count": 3,
   "metadata": {},
   "outputs": [],
   "source": [
    "import pandas as pd\n",
    "from tqdm.auto import tqdm\n",
    "import numpy as np\n",
    "from pathlib import Path\n",
    "import gzip\n",
    "from collections import Counter\n",
    "from sklearn.metrics.pairwise import cosine_similarity\n",
    "from sklearn.feature_extraction.text import TfidfTransformer\n",
    "\n",
    "from scipy.sparse import csr_matrix\n",
    "import igraph as ig\n",
    "import xnetwork as xn"
   ]
  },
  {
   "cell_type": "code",
   "execution_count": 4,
   "metadata": {},
   "outputs": [],
   "source": [
    "datasetName = \"debate2024_Jun_bluesky\"\n",
    "dataPath = Path(\"Data\")\n",
    "networksPath = dataPath/\"Networks\"\n",
    "networksPath.mkdir(parents=True, exist_ok=True)\n",
    "# Minimum number of activities for a user to be considered\n",
    "minUserActivities = 5"
   ]
  },
  {
   "cell_type": "code",
   "execution_count": 5,
   "metadata": {},
   "outputs": [],
   "source": [
    "with gzip.open(dataPath / f\"{datasetName}.feather.gz\", 'rb') as f:\n",
    "    df = pd.read_feather(f)"
   ]
  },
  {
   "cell_type": "code",
   "execution_count": 6,
   "metadata": {},
   "outputs": [],
   "source": [
    "userActivityCount = df[\"user_id\"].value_counts()\n",
    "usersWithMinActivities = set(userActivityCount[userActivityCount >= minUserActivities].index)\n",
    "dfFiltered = df[df[\"user_id\"].isin(usersWithMinActivities)]"
   ]
  },
  {
   "cell_type": "code",
   "execution_count": 7,
   "metadata": {},
   "outputs": [],
   "source": [
    "def obtainBipartiteEdgesReposts(df):\n",
    "    if \"linked_post\" not in df or \"post_type\" not in df or \"user_id\" not in df:\n",
    "        return []\n",
    "    df = df[df[\"post_type\"] == \"repost\"]\n",
    "    bipartiteEdges = df[[\"user_id\",\"linked_post\"]].values\n",
    "    return bipartiteEdges"
   ]
  },
  {
   "cell_type": "code",
   "execution_count": 8,
   "metadata": {},
   "outputs": [],
   "source": [
    "bipartiteEdges = obtainBipartiteEdgesReposts(dfFiltered)"
   ]
  },
  {
   "cell_type": "code",
   "execution_count": 9,
   "metadata": {},
   "outputs": [],
   "source": [
    "def filterNodes(bipartiteEdges, minRightDegree=1, minLeftDegree=1):\n",
    "    # goes from right to left\n",
    "    bipartiteEdges = np.array(bipartiteEdges)\n",
    "    mask = np.ones(len(bipartiteEdges),dtype=bool)\n",
    "    if(minRightDegree>1):\n",
    "        uniqueEdges = set(tuple(edge) for edge in bipartiteEdges)\n",
    "        uniqueEdges = np.array(list(uniqueEdges))\n",
    "        rightDegrees = Counter(uniqueEdges[:,1])\n",
    "        mask &= np.array([rightDegrees[rightNode]>=minRightDegree for _,rightNode in bipartiteEdges])\n",
    "    bipartiteEdges = bipartiteEdges[mask]\n",
    "    \n",
    "    # goes from left to right\n",
    "    mask = np.ones(len(bipartiteEdges),dtype=bool)\n",
    "    if(minLeftDegree>1):\n",
    "        uniqueEdges = set(tuple(edge) for edge in bipartiteEdges)\n",
    "        uniqueEdges = np.array(list(uniqueEdges))\n",
    "        leftDegrees = Counter(uniqueEdges[:,0])\n",
    "        mask &= np.array([leftDegrees[leftNode]>=minLeftDegree for leftNode,_ in bipartiteEdges])\n",
    "    bipartiteEdges = bipartiteEdges[mask]\n",
    "    return bipartiteEdges"
   ]
  },
  {
   "cell_type": "code",
   "execution_count": 10,
   "metadata": {},
   "outputs": [],
   "source": [
    "bipartiteEdges = filterNodes(bipartiteEdges, minRightDegree=5, minLeftDegree=5)"
   ]
  },
  {
   "cell_type": "code",
   "execution_count": 11,
   "metadata": {},
   "outputs": [],
   "source": [
    "bipartiteEdges = np.array(bipartiteEdges)\n",
    "bipartiteIndexedEdges = np.zeros(bipartiteEdges.shape, dtype=int)\n",
    "leftIndex2Label = [label for label in np.unique(bipartiteEdges[:,0])]\n",
    "leftLabel2Index = {label: index for index, label in enumerate(leftIndex2Label)}\n",
    "rightIndex2Label = [label for label in np.unique(bipartiteEdges[:,1])]\n",
    "rightLabel2Index = {label: index for index, label in enumerate(rightIndex2Label)}\n",
    "\n",
    "# create indexed edges in a numpy array integers\n",
    "bipartiteIndexedEdges[:,0] = [leftLabel2Index[label] for label in bipartiteEdges[:,0]]\n",
    "bipartiteIndexedEdges[:,1] = [rightLabel2Index[label] for label in bipartiteEdges[:,1]]\n",
    "\n",
    "leftCount = len(leftIndex2Label)\n",
    "rightCount = len(rightIndex2Label)\n",
    "\n",
    "leftIndexedDegree = np.bincount(bipartiteIndexedEdges[:,0])\n",
    "rightIndexedDegree = np.bincount(bipartiteIndexedEdges[:,1])\n"
   ]
  },
  {
   "cell_type": "code",
   "execution_count": 12,
   "metadata": {},
   "outputs": [
    {
     "data": {
      "text/plain": [
       "array([[4513, 4469],\n",
       "       [2546, 4469],\n",
       "       [1818, 1461],\n",
       "       [4269, 1461],\n",
       "       [4172, 1868]])"
      ]
     },
     "execution_count": 12,
     "metadata": {},
     "output_type": "execute_result"
    }
   ],
   "source": [
    "bipartiteIndexedEdges[0:5]"
   ]
  },
  {
   "cell_type": "code",
   "execution_count": 13,
   "metadata": {},
   "outputs": [],
   "source": [
    "weightsMatrix = csr_matrix((np.ones(len(bipartiteIndexedEdges)), (bipartiteIndexedEdges[:,0], bipartiteIndexedEdges[:,1])), shape=(leftCount, rightCount))\n",
    "vectorizer = TfidfTransformer()\n",
    "weightsMatrix = vectorizer.fit_transform(weightsMatrix)\n"
   ]
  },
  {
   "cell_type": "code",
   "execution_count": 14,
   "metadata": {},
   "outputs": [],
   "source": [
    "similarities = cosine_similarity(weightsMatrix)"
   ]
  },
  {
   "cell_type": "code",
   "execution_count": 15,
   "metadata": {},
   "outputs": [],
   "source": [
    "# Apply a threshold to the similarities\n",
    "threshold = 0.1\n",
    "similarities[similarities<threshold] = 0\n",
    "# remove diagonal\n",
    "np.fill_diagonal(similarities, 0)"
   ]
  },
  {
   "cell_type": "code",
   "execution_count": 16,
   "metadata": {},
   "outputs": [],
   "source": [
    "g = ig.Graph.Weighted_Adjacency(similarities, mode=\"undirected\", attr=\"weight\")"
   ]
  },
  {
   "cell_type": "code",
   "execution_count": 17,
   "metadata": {},
   "outputs": [
    {
     "data": {
      "text/plain": [
       "{'Number of nodes': 4808,\n",
       " 'Number of edges': 173448,\n",
       " 'Avg. degree': 72.14975041597337}"
      ]
     },
     "execution_count": 17,
     "metadata": {},
     "output_type": "execute_result"
    }
   ],
   "source": [
    "{\n",
    " \"Number of nodes\":g.vcount(),\n",
    " \"Number of edges\":g.ecount(),\n",
    " \"Avg. degree\": 2.0*g.ecount()/g.vcount()\n",
    " }"
   ]
  },
  {
   "cell_type": "code",
   "execution_count": 27,
   "metadata": {},
   "outputs": [],
   "source": [
    "g.vs[\"Label\"] = leftIndex2Label\n",
    "# original number of posts\n",
    "g.vs[\"RepostsCount\"] = leftIndexedDegree"
   ]
  },
  {
   "cell_type": "code",
   "execution_count": 28,
   "metadata": {},
   "outputs": [],
   "source": [
    "postID2Text = dict(zip(df[\"post_id\"], df[\"text\"]))\n",
    "topRepostIndices = np.argmax(weightsMatrix, axis=1)\n",
    "g.vs[\"MostUniqueRepost\"] = [postID2Text[rightIndex2Label[index]] for index in topRepostIndices.A.ravel()]"
   ]
  },
  {
   "cell_type": "code",
   "execution_count": 29,
   "metadata": {},
   "outputs": [],
   "source": [
    "user2repostIDs = dfFiltered[dfFiltered[\"post_type\"]==\"repost\"].groupby(\"user_id\")[\"linked_post\"].apply(list)\n",
    "user2samplePostText = user2repostIDs.apply(lambda repostIDs: \"<br>\".join(np.random.choice([postID2Text[postID] for postID in repostIDs], size=min(len(repostIDs),3), replace=False)))\n",
    "g.vs[\"SampleReposts\"] = [user2samplePostText.get(label, \"\") for label in leftIndex2Label]"
   ]
  },
  {
   "cell_type": "code",
   "execution_count": 30,
   "metadata": {},
   "outputs": [],
   "source": [
    "# remove isolated nodes\n",
    "gFiltered = g.subgraph(g.vs.select(_degree_gt=0))"
   ]
  },
  {
   "cell_type": "code",
   "execution_count": 31,
   "metadata": {},
   "outputs": [],
   "source": [
    "# save to XNET\n",
    "xn.save(g, networksPath/f\"{datasetName}_corepost.xnet\")"
   ]
  }
 ],
 "metadata": {
  "kernelspec": {
   "display_name": "ic2s2_tutorial",
   "language": "python",
   "name": "python3"
  },
  "language_info": {
   "codemirror_mode": {
    "name": "ipython",
    "version": 3
   },
   "file_extension": ".py",
   "mimetype": "text/x-python",
   "name": "python",
   "nbconvert_exporter": "python",
   "pygments_lexer": "ipython3",
   "version": "3.11.9"
  }
 },
 "nbformat": 4,
 "nbformat_minor": 2
}
