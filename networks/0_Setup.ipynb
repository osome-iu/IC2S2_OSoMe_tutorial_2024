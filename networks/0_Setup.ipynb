{
 "cells": [
  {
   "cell_type": "markdown",
   "metadata": {},
   "source": [
    "# 0 - Setup and Introduction\n",
    "\n"
   ]
  },
  {
   "cell_type": "markdown",
   "metadata": {},
   "source": [
    "## Downloading the tutorial datasets from Zenodo\n",
    "Here we download the tutorial datasets from Zenodo. The datasets are formatted as feather files, which are a fast and efficient way to store dataframes in Python. They will be copied to the `Data` folder in the working directory.\n",
    "In addition to the datasets, it will also download the embeddings that are going to be used later in the tutorial.\n",
    "\n",
    "The dataset covers the period between 2020-06-25 and 2020-07-03 and are related to the first 2024 presidential debate, containing posts that mention the terms \"biden\", \"debate\", and \"trump\". Both mastodon and bluesky datasets are included."
   ]
  },
  {
   "cell_type": "code",
   "execution_count": null,
   "metadata": {},
   "outputs": [],
   "source": [
    "import requests\n",
    "import os\n",
    "from tqdm.auto import tqdm\n",
    "\n",
    "def download_zenodo_files(doi_or_id, output_dir):\n",
    "    if doi_or_id.startswith(\"10.\"):\n",
    "        api_url = f\"https://zenodo.org/api/records/?q=doi:{doi_or_id}\"\n",
    "    else:\n",
    "        api_url = f\"https://zenodo.org/api/records/{doi_or_id}\"\n",
    "    \n",
    "    response = requests.get(api_url)\n",
    "    response.raise_for_status()\n",
    "    data = response.json()\n",
    "    \n",
    "    if doi_or_id.startswith(\"10.\"):\n",
    "        data = data['hits']['hits'][0]\n",
    "    \n",
    "    os.makedirs(output_dir, exist_ok=True)\n",
    "    \n",
    "    for file_info in data['files']:\n",
    "        file_url = file_info['links']['self']\n",
    "        file_name = file_info['key']\n",
    "        \n",
    "        # Stream the file download\n",
    "        with requests.get(file_url, stream=True) as response:\n",
    "            response.raise_for_status()\n",
    "            total_size = int(response.headers.get('content-length', 0))\n",
    "            chunk_size = 1024\n",
    "            output_path = os.path.join(output_dir, file_name)\n",
    "            with open(output_path, 'wb') as file, tqdm(\n",
    "                total=total_size, unit='B', unit_scale=True, desc=file_name\n",
    "            ) as progress_bar:\n",
    "                for chunk in response.iter_content(chunk_size=chunk_size):\n",
    "                    if chunk:\n",
    "                        file.write(chunk)\n",
    "                        progress_bar.update(len(chunk))\n",
    "        \n",
    "        print(f\"File {file_name} downloaded and saved to {output_path}\")\n",
    "\n",
    "doi_or_id = '10.5281/zenodo.12748042'  \n",
    "output_dir = 'Data'  \n",
    "download_zenodo_files(doi_or_id, output_dir)"
   ]
  }
 ],
 "metadata": {
  "kernelspec": {
   "display_name": "ic2s2_tutorial",
   "language": "python",
   "name": "python3"
  },
  "language_info": {
   "codemirror_mode": {
    "name": "ipython",
    "version": 3
   },
   "file_extension": ".py",
   "mimetype": "text/x-python",
   "name": "python",
   "nbconvert_exporter": "python",
   "pygments_lexer": "ipython3",
   "version": "3.11.9"
  }
 },
 "nbformat": 4,
 "nbformat_minor": 2
}
