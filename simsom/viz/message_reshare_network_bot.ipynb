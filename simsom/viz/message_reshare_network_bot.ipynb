{
 "cells": [
  {
   "cell_type": "markdown",
   "id": "3684235a",
   "metadata": {},
   "source": [
    "Sample some cascades to plot the network (for high- and low-quality messages)"
   ]
  },
  {
   "cell_type": "code",
   "execution_count": 1,
   "id": "bd6f7ef0",
   "metadata": {},
   "outputs": [],
   "source": [
    "## Group & sort by cascade size.\n",
    "## Merge node uid with original network to get political affiliation\n",
    "## Save file to .gml"
   ]
  },
  {
   "cell_type": "code",
   "execution_count": 1,
   "id": "8648e308",
   "metadata": {},
   "outputs": [],
   "source": [
    "import simsom.utils as utils\n",
    "import matplotlib.pyplot as plt\n",
    "import os\n",
    "import glob\n",
    "import json\n",
    "from collections import defaultdict\n",
    "import pandas as pd\n",
    "import seaborn as sns"
   ]
  },
  {
   "cell_type": "markdown",
   "id": "59949ff6",
   "metadata": {},
   "source": [
    "## Reshare cascade"
   ]
  },
  {
   "cell_type": "code",
   "execution_count": 2,
   "id": "16fb0a3d",
   "metadata": {},
   "outputs": [],
   "source": [
    "import igraph as ig"
   ]
  },
  {
   "cell_type": "code",
   "execution_count": 3,
   "id": "9a603cdd",
   "metadata": {},
   "outputs": [
    {
     "name": "stdout",
     "output_type": "stream",
     "text": [
      "dict_keys(['verbose', 'tracktimestep', 'save_message_info', 'output_cascades', 'mu', 'theta', 'quality', 'diversity', 'discriminative_pow', 'quality_timestep', 'exposure_timestep', 'age_timestep', 'all_messages', 'reshared_messages', 'feeds_message_ids', 'feeds_shares', 'feeds_ages'])\n"
     ]
    }
   ],
   "source": [
    "# Read in reshare data\n",
    "verbose_fpath = \"results_manipulation/message_info.json.gz\"\n",
    "data = utils.read_json_compressed(verbose_fpath)\n",
    "print(data.keys())\n",
    "\n",
    "messages = pd.DataFrame.from_records(data['all_messages'])"
   ]
  },
  {
   "cell_type": "code",
   "execution_count": 4,
   "id": "ff822f6d",
   "metadata": {},
   "outputs": [],
   "source": [
    "# Read in og graph data\n",
    "network_path = \"data/network_baseline.gml\"\n",
    "net = ig.Graph.Read_GML(network_path)"
   ]
  },
  {
   "cell_type": "markdown",
   "id": "cd3d1e4c",
   "metadata": {},
   "source": [
    "## Get reshare cascade by message id "
   ]
  },
  {
   "cell_type": "code",
   "execution_count": 5,
   "id": "34d0a804",
   "metadata": {},
   "outputs": [],
   "source": [
    "reshares = messages.explode(\"spread_via_agents\")\n",
    "reshares = reshares.drop_duplicates(subset=[\"id\", \"spread_via_agents\"])"
   ]
  },
  {
   "cell_type": "code",
   "execution_count": 6,
   "id": "684e47fc",
   "metadata": {},
   "outputs": [
    {
     "name": "stdout",
     "output_type": "stream",
     "text": [
      "Id of the message with the largest cascade (size=109): 4724 \n"
     ]
    }
   ],
   "source": [
    "df = reshares\n",
    "message_type = \"bot\"  # bot or human\n",
    "# CASCADE_DIR = os.path.join(\n",
    "#     \"/N/slate/baotruon/marketplace/results\", \"cascade_net\", folder\n",
    "# )\n",
    "\n",
    "# if not os.path.exists(CASCADE_DIR):\n",
    "#     os.makedirs(CASCADE_DIR)\n",
    "\n",
    "if message_type == \"human\":\n",
    "    filtered = df[df[\"is_by_bot\"] == 0]\n",
    "    sizes = filtered.groupby(\n",
    "        \"id\"\n",
    "    ).spread_via_agents.count()  # return a Series where message id the index\n",
    "elif message_type == \"bot\":\n",
    "    filtered = df[df[\"is_by_bot\"] == 1]\n",
    "    sizes = filtered.groupby(\"id\").spread_via_agents.count()\n",
    "\n",
    "# Get the largest cascade\n",
    "reshare_cascades = sizes.sort_values(ascending=False).reset_index()\n",
    "largest = reshare_cascades.head(1)\n",
    "print(f\"Id of the message with the largest cascade (size={largest.loc[0, 'spread_via_agents']}): {largest.loc[0, 'id']} \")\n",
    "\n",
    "message_id = largest.loc[0, 'id']"
   ]
  },
  {
   "cell_type": "code",
   "execution_count": 7,
   "id": "b2930734",
   "metadata": {},
   "outputs": [
    {
     "data": {
      "text/html": [
       "<div>\n",
       "<style scoped>\n",
       "    .dataframe tbody tr th:only-of-type {\n",
       "        vertical-align: middle;\n",
       "    }\n",
       "\n",
       "    .dataframe tbody tr th {\n",
       "        vertical-align: top;\n",
       "    }\n",
       "\n",
       "    .dataframe thead th {\n",
       "        text-align: right;\n",
       "    }\n",
       "</style>\n",
       "<table border=\"1\" class=\"dataframe\">\n",
       "  <thead>\n",
       "    <tr style=\"text-align: right;\">\n",
       "      <th></th>\n",
       "      <th>message_id</th>\n",
       "      <th>timestep</th>\n",
       "      <th>source</th>\n",
       "      <th>target</th>\n",
       "    </tr>\n",
       "  </thead>\n",
       "  <tbody>\n",
       "    <tr>\n",
       "      <th>0</th>\n",
       "      <td>2</td>\n",
       "      <td>1</td>\n",
       "      <td>106392</td>\n",
       "      <td>55935</td>\n",
       "    </tr>\n",
       "    <tr>\n",
       "      <th>1</th>\n",
       "      <td>1</td>\n",
       "      <td>1</td>\n",
       "      <td>84268</td>\n",
       "      <td>120848</td>\n",
       "    </tr>\n",
       "    <tr>\n",
       "      <th>2</th>\n",
       "      <td>1</td>\n",
       "      <td>1</td>\n",
       "      <td>84268</td>\n",
       "      <td>136140</td>\n",
       "    </tr>\n",
       "    <tr>\n",
       "      <th>3</th>\n",
       "      <td>1</td>\n",
       "      <td>1</td>\n",
       "      <td>84268</td>\n",
       "      <td>105229</td>\n",
       "    </tr>\n",
       "    <tr>\n",
       "      <th>4</th>\n",
       "      <td>3</td>\n",
       "      <td>1</td>\n",
       "      <td>114051</td>\n",
       "      <td>55783</td>\n",
       "    </tr>\n",
       "  </tbody>\n",
       "</table>\n",
       "</div>"
      ],
      "text/plain": [
       "   message_id  timestep  source  target\n",
       "0           2         1  106392   55935\n",
       "1           1         1   84268  120848\n",
       "2           1         1   84268  136140\n",
       "3           1         1   84268  105229\n",
       "4           3         1  114051   55783"
      ]
     },
     "execution_count": 7,
     "metadata": {},
     "output_type": "execute_result"
    }
   ],
   "source": [
    "cascade_fpath = \"results_manipulation/reshare.csv\"\n",
    "cascade = pd.read_csv(cascade_fpath, dtype={\"source\": str, \"target\": str})\n",
    "cascade.head()"
   ]
  },
  {
   "cell_type": "code",
   "execution_count": 8,
   "id": "5e3dc0c9",
   "metadata": {},
   "outputs": [],
   "source": [
    "import igraph\n",
    "\n",
    "\n",
    "def get_reshare_cascade(message_id, cascade_inpath):\n",
    "    \"\"\"\n",
    "    Get reshare cascade by message_id\n",
    "    cascade_fpath (str): fpath of reshare  data\n",
    "\n",
    "    \"\"\"\n",
    "    cascade = pd.read_csv(cascade_inpath, sep=\",\")\n",
    "    cascade_data = cascade[cascade.message_id == message_id]\n",
    "    # Get vertices\n",
    "    nodes = list(cascade_data.agent1.unique()) + list(cascade_data.agent2.unique())\n",
    "    # convert list of lists to list of tuples\n",
    "    edges = [tuple(pair) for pair in cascade_data[[\"agent1\", \"agent2\"]].values]\n",
    "\n",
    "    graph = igraph.Graph(directed=True)\n",
    "    graph.add_vertices(nodes)\n",
    "    graph.add_edges(edges)\n",
    "\n",
    "    # Set attributes of nodes from og graph data\n",
    "    og_nodes = [i for i in net.vs if i[\"uid\"] in nodes]\n",
    "    graph.vs[\"party\"] = [\n",
    "        float(node[\"party\"]) if node[\"party\"] != \"None\" else 0 for node in og_nodes\n",
    "    ]\n",
    "    graph.vs[\"misinfo\"] = [\n",
    "        float(node[\"misinfo\"]) if node[\"party\"] != \"None\" else 100 for node in og_nodes\n",
    "    ]\n",
    "    graph.vs[\"bot\"] = [int(node[\"bot\"]) for node in og_nodes]\n",
    "    return graph"
   ]
  },
  {
   "cell_type": "code",
   "execution_count": 9,
   "id": "6561a7d7",
   "metadata": {},
   "outputs": [
    {
     "data": {
      "text/html": [
       "<div>\n",
       "<style scoped>\n",
       "    .dataframe tbody tr th:only-of-type {\n",
       "        vertical-align: middle;\n",
       "    }\n",
       "\n",
       "    .dataframe tbody tr th {\n",
       "        vertical-align: top;\n",
       "    }\n",
       "\n",
       "    .dataframe thead th {\n",
       "        text-align: right;\n",
       "    }\n",
       "</style>\n",
       "<table border=\"1\" class=\"dataframe\">\n",
       "  <thead>\n",
       "    <tr style=\"text-align: right;\">\n",
       "      <th></th>\n",
       "      <th>message_id</th>\n",
       "      <th>timestep</th>\n",
       "      <th>source</th>\n",
       "      <th>target</th>\n",
       "    </tr>\n",
       "  </thead>\n",
       "  <tbody>\n",
       "    <tr>\n",
       "      <th>0</th>\n",
       "      <td>2</td>\n",
       "      <td>1</td>\n",
       "      <td>106392</td>\n",
       "      <td>55935</td>\n",
       "    </tr>\n",
       "    <tr>\n",
       "      <th>1</th>\n",
       "      <td>1</td>\n",
       "      <td>1</td>\n",
       "      <td>84268</td>\n",
       "      <td>120848</td>\n",
       "    </tr>\n",
       "    <tr>\n",
       "      <th>2</th>\n",
       "      <td>1</td>\n",
       "      <td>1</td>\n",
       "      <td>84268</td>\n",
       "      <td>136140</td>\n",
       "    </tr>\n",
       "    <tr>\n",
       "      <th>3</th>\n",
       "      <td>1</td>\n",
       "      <td>1</td>\n",
       "      <td>84268</td>\n",
       "      <td>105229</td>\n",
       "    </tr>\n",
       "    <tr>\n",
       "      <th>4</th>\n",
       "      <td>3</td>\n",
       "      <td>1</td>\n",
       "      <td>114051</td>\n",
       "      <td>55783</td>\n",
       "    </tr>\n",
       "  </tbody>\n",
       "</table>\n",
       "</div>"
      ],
      "text/plain": [
       "   message_id  timestep  source  target\n",
       "0           2         1  106392   55935\n",
       "1           1         1   84268  120848\n",
       "2           1         1   84268  136140\n",
       "3           1         1   84268  105229\n",
       "4           3         1  114051   55783"
      ]
     },
     "execution_count": 9,
     "metadata": {},
     "output_type": "execute_result"
    }
   ],
   "source": [
    "cascade.head()"
   ]
  },
  {
   "cell_type": "code",
   "execution_count": 10,
   "id": "f6569c6e",
   "metadata": {},
   "outputs": [],
   "source": [
    "reshare_nodes = df[df.id == message_id][\"spread_via_agents\"].values\n",
    "cascade_data = cascade[\n",
    "    (cascade.message_id == message_id)\n",
    "    & (cascade.source.isin(reshare_nodes))\n",
    "    & (cascade.target.isin(reshare_nodes))\n",
    "]"
   ]
  },
  {
   "cell_type": "code",
   "execution_count": 11,
   "id": "5434bb8a",
   "metadata": {},
   "outputs": [
    {
     "data": {
      "text/plain": [
       "array(['1f', '33657', '53672', '3d', '96498', '128507', '23417', '86753',\n",
       "       '94462', '41625', '133880', '17707', '11991', '132120', '124546',\n",
       "       '11715', '97951', '111855', '4862', '99106', '9o', '63279',\n",
       "       '92806', '79127', '18144', '83156', '29196', '0c', '76804',\n",
       "       '68255', '61547', '97144', '135404', '115523', '4o', '120273',\n",
       "       '123631', '70328', '103635', '6616', '90829', '131781', '27382',\n",
       "       '40840', '114629', '71578', '117659', '31102', '102360', '122771',\n",
       "       '98468', '119995', '56153', '135311', '51043', '5w', '26474',\n",
       "       '120058', '127041', '57945', '8s', '95945', '81316', '85762',\n",
       "       '132711', '86974', '86101', '68602', '124188', '20801', '58703',\n",
       "       '112341', '112937', '36385', '124055', '18393', '70083', '127773',\n",
       "       '93628', '51998', '11424', '9751', '110517', '85117', '83815',\n",
       "       '7943', '102644', '123511', '13860', '64895', '129218', '42481',\n",
       "       '101480', '105108', '55922', '44355', '29905', '16200', '84125',\n",
       "       '109616', '15584', '73856', '129100', '36982', '90309', '52044',\n",
       "       '16018', '169', '127296'], dtype=object)"
      ]
     },
     "execution_count": 11,
     "metadata": {},
     "output_type": "execute_result"
    }
   ],
   "source": [
    "reshare_nodes"
   ]
  },
  {
   "cell_type": "code",
   "execution_count": 12,
   "id": "5399b35f",
   "metadata": {},
   "outputs": [
    {
     "data": {
      "text/html": [
       "<div>\n",
       "<style scoped>\n",
       "    .dataframe tbody tr th:only-of-type {\n",
       "        vertical-align: middle;\n",
       "    }\n",
       "\n",
       "    .dataframe tbody tr th {\n",
       "        vertical-align: top;\n",
       "    }\n",
       "\n",
       "    .dataframe thead th {\n",
       "        text-align: right;\n",
       "    }\n",
       "</style>\n",
       "<table border=\"1\" class=\"dataframe\">\n",
       "  <thead>\n",
       "    <tr style=\"text-align: right;\">\n",
       "      <th></th>\n",
       "      <th>message_id</th>\n",
       "      <th>timestep</th>\n",
       "      <th>source</th>\n",
       "      <th>target</th>\n",
       "    </tr>\n",
       "  </thead>\n",
       "  <tbody>\n",
       "    <tr>\n",
       "      <th>251456</th>\n",
       "      <td>4724</td>\n",
       "      <td>9</td>\n",
       "      <td>1f</td>\n",
       "      <td>102360</td>\n",
       "    </tr>\n",
       "    <tr>\n",
       "      <th>251462</th>\n",
       "      <td>4724</td>\n",
       "      <td>9</td>\n",
       "      <td>1f</td>\n",
       "      <td>119254</td>\n",
       "    </tr>\n",
       "    <tr>\n",
       "      <th>251464</th>\n",
       "      <td>4724</td>\n",
       "      <td>9</td>\n",
       "      <td>1f</td>\n",
       "      <td>129218</td>\n",
       "    </tr>\n",
       "    <tr>\n",
       "      <th>251476</th>\n",
       "      <td>4724</td>\n",
       "      <td>9</td>\n",
       "      <td>1f</td>\n",
       "      <td>28964</td>\n",
       "    </tr>\n",
       "    <tr>\n",
       "      <th>251483</th>\n",
       "      <td>4724</td>\n",
       "      <td>9</td>\n",
       "      <td>1f</td>\n",
       "      <td>21252</td>\n",
       "    </tr>\n",
       "    <tr>\n",
       "      <th>...</th>\n",
       "      <td>...</td>\n",
       "      <td>...</td>\n",
       "      <td>...</td>\n",
       "      <td>...</td>\n",
       "    </tr>\n",
       "    <tr>\n",
       "      <th>658534</th>\n",
       "      <td>4724</td>\n",
       "      <td>22</td>\n",
       "      <td>169</td>\n",
       "      <td>48921</td>\n",
       "    </tr>\n",
       "    <tr>\n",
       "      <th>659317</th>\n",
       "      <td>4724</td>\n",
       "      <td>22</td>\n",
       "      <td>127296</td>\n",
       "      <td>129100</td>\n",
       "    </tr>\n",
       "    <tr>\n",
       "      <th>659327</th>\n",
       "      <td>4724</td>\n",
       "      <td>22</td>\n",
       "      <td>127296</td>\n",
       "      <td>105988</td>\n",
       "    </tr>\n",
       "    <tr>\n",
       "      <th>659333</th>\n",
       "      <td>4724</td>\n",
       "      <td>22</td>\n",
       "      <td>127296</td>\n",
       "      <td>126600</td>\n",
       "    </tr>\n",
       "    <tr>\n",
       "      <th>659342</th>\n",
       "      <td>4724</td>\n",
       "      <td>22</td>\n",
       "      <td>127296</td>\n",
       "      <td>4070</td>\n",
       "    </tr>\n",
       "  </tbody>\n",
       "</table>\n",
       "<p>3125 rows × 4 columns</p>\n",
       "</div>"
      ],
      "text/plain": [
       "        message_id  timestep  source  target\n",
       "251456        4724         9      1f  102360\n",
       "251462        4724         9      1f  119254\n",
       "251464        4724         9      1f  129218\n",
       "251476        4724         9      1f   28964\n",
       "251483        4724         9      1f   21252\n",
       "...            ...       ...     ...     ...\n",
       "658534        4724        22     169   48921\n",
       "659317        4724        22  127296  129100\n",
       "659327        4724        22  127296  105988\n",
       "659333        4724        22  127296  126600\n",
       "659342        4724        22  127296    4070\n",
       "\n",
       "[3125 rows x 4 columns]"
      ]
     },
     "execution_count": 12,
     "metadata": {},
     "output_type": "execute_result"
    }
   ],
   "source": [
    "cascade[\n",
    "    (cascade.message_id == message_id)]"
   ]
  },
  {
   "cell_type": "code",
   "execution_count": 13,
   "id": "8eadaa6e",
   "metadata": {},
   "outputs": [
    {
     "data": {
      "text/plain": [
       "array(['1f', '33657', '53672', '3d', '96498', '128507', '23417', '86753',\n",
       "       '94462', '41625', '133880', '17707', '11991', '132120', '124546',\n",
       "       '11715', '97951', '111855', '4862', '99106', '9o', '63279',\n",
       "       '92806', '79127', '18144', '83156', '29196', '0c', '76804',\n",
       "       '68255', '61547', '97144', '135404', '115523', '4o', '120273',\n",
       "       '123631', '70328', '103635', '6616', '90829', '131781', '27382',\n",
       "       '40840', '114629', '71578', '117659', '31102', '102360', '122771',\n",
       "       '98468', '119995', '56153', '135311', '51043', '5w', '26474',\n",
       "       '120058', '127041', '57945', '8s', '95945', '81316', '85762',\n",
       "       '132711', '86974', '86101', '68602', '124188', '20801', '58703',\n",
       "       '112341', '112937', '36385', '124055', '18393', '70083', '127773',\n",
       "       '93628', '51998', '11424', '9751', '110517', '85117', '83815',\n",
       "       '7943', '102644', '123511', '13860', '64895', '129218', '42481',\n",
       "       '101480', '105108', '55922', '44355', '29905', '16200', '84125',\n",
       "       '109616', '15584', '73856', '129100', '36982', '90309', '52044',\n",
       "       '16018', '169', '127296'], dtype=object)"
      ]
     },
     "execution_count": 13,
     "metadata": {},
     "output_type": "execute_result"
    }
   ],
   "source": [
    "reshare_nodes"
   ]
  },
  {
   "cell_type": "code",
   "execution_count": 14,
   "id": "2b432411",
   "metadata": {},
   "outputs": [
    {
     "data": {
      "text/html": [
       "<div>\n",
       "<style scoped>\n",
       "    .dataframe tbody tr th:only-of-type {\n",
       "        vertical-align: middle;\n",
       "    }\n",
       "\n",
       "    .dataframe tbody tr th {\n",
       "        vertical-align: top;\n",
       "    }\n",
       "\n",
       "    .dataframe thead th {\n",
       "        text-align: right;\n",
       "    }\n",
       "</style>\n",
       "<table border=\"1\" class=\"dataframe\">\n",
       "  <thead>\n",
       "    <tr style=\"text-align: right;\">\n",
       "      <th></th>\n",
       "      <th>message_id</th>\n",
       "      <th>timestep</th>\n",
       "      <th>source</th>\n",
       "      <th>target</th>\n",
       "    </tr>\n",
       "  </thead>\n",
       "  <tbody>\n",
       "    <tr>\n",
       "      <th>251456</th>\n",
       "      <td>4724</td>\n",
       "      <td>9</td>\n",
       "      <td>1f</td>\n",
       "      <td>102360</td>\n",
       "    </tr>\n",
       "    <tr>\n",
       "      <th>251464</th>\n",
       "      <td>4724</td>\n",
       "      <td>9</td>\n",
       "      <td>1f</td>\n",
       "      <td>129218</td>\n",
       "    </tr>\n",
       "    <tr>\n",
       "      <th>251495</th>\n",
       "      <td>4724</td>\n",
       "      <td>9</td>\n",
       "      <td>1f</td>\n",
       "      <td>96498</td>\n",
       "    </tr>\n",
       "    <tr>\n",
       "      <th>251502</th>\n",
       "      <td>4724</td>\n",
       "      <td>9</td>\n",
       "      <td>1f</td>\n",
       "      <td>53672</td>\n",
       "    </tr>\n",
       "    <tr>\n",
       "      <th>251519</th>\n",
       "      <td>4724</td>\n",
       "      <td>9</td>\n",
       "      <td>1f</td>\n",
       "      <td>33657</td>\n",
       "    </tr>\n",
       "    <tr>\n",
       "      <th>...</th>\n",
       "      <td>...</td>\n",
       "      <td>...</td>\n",
       "      <td>...</td>\n",
       "      <td>...</td>\n",
       "    </tr>\n",
       "    <tr>\n",
       "      <th>658368</th>\n",
       "      <td>4724</td>\n",
       "      <td>22</td>\n",
       "      <td>169</td>\n",
       "      <td>81316</td>\n",
       "    </tr>\n",
       "    <tr>\n",
       "      <th>658401</th>\n",
       "      <td>4724</td>\n",
       "      <td>22</td>\n",
       "      <td>169</td>\n",
       "      <td>70083</td>\n",
       "    </tr>\n",
       "    <tr>\n",
       "      <th>658446</th>\n",
       "      <td>4724</td>\n",
       "      <td>22</td>\n",
       "      <td>169</td>\n",
       "      <td>7943</td>\n",
       "    </tr>\n",
       "    <tr>\n",
       "      <th>658465</th>\n",
       "      <td>4724</td>\n",
       "      <td>22</td>\n",
       "      <td>169</td>\n",
       "      <td>56153</td>\n",
       "    </tr>\n",
       "    <tr>\n",
       "      <th>659317</th>\n",
       "      <td>4724</td>\n",
       "      <td>22</td>\n",
       "      <td>127296</td>\n",
       "      <td>129100</td>\n",
       "    </tr>\n",
       "  </tbody>\n",
       "</table>\n",
       "<p>528 rows × 4 columns</p>\n",
       "</div>"
      ],
      "text/plain": [
       "        message_id  timestep  source  target\n",
       "251456        4724         9      1f  102360\n",
       "251464        4724         9      1f  129218\n",
       "251495        4724         9      1f   96498\n",
       "251502        4724         9      1f   53672\n",
       "251519        4724         9      1f   33657\n",
       "...            ...       ...     ...     ...\n",
       "658368        4724        22     169   81316\n",
       "658401        4724        22     169   70083\n",
       "658446        4724        22     169    7943\n",
       "658465        4724        22     169   56153\n",
       "659317        4724        22  127296  129100\n",
       "\n",
       "[528 rows x 4 columns]"
      ]
     },
     "execution_count": 14,
     "metadata": {},
     "output_type": "execute_result"
    }
   ],
   "source": [
    "cascade_data"
   ]
  },
  {
   "cell_type": "code",
   "execution_count": 15,
   "id": "ca1c114c",
   "metadata": {},
   "outputs": [],
   "source": [
    "# Get vertices\n",
    "nodes = reshare_nodes\n",
    "# nodes = list(cascade_data.agent1.unique()) + list(cascade_data.agent2.unique())"
   ]
  },
  {
   "cell_type": "code",
   "execution_count": 16,
   "id": "d25d972f",
   "metadata": {},
   "outputs": [
    {
     "data": {
      "text/plain": [
       "array([['1f', '102360'],\n",
       "       ['1f', '129218'],\n",
       "       ['1f', '96498'],\n",
       "       ...,\n",
       "       ['169', '7943'],\n",
       "       ['169', '56153'],\n",
       "       ['127296', '129100']], dtype=object)"
      ]
     },
     "execution_count": 16,
     "metadata": {},
     "output_type": "execute_result"
    }
   ],
   "source": [
    "cascade_data[[\"source\", \"target\"]].values"
   ]
  },
  {
   "cell_type": "code",
   "execution_count": 17,
   "id": "1e145221",
   "metadata": {},
   "outputs": [],
   "source": [
    "# convert list of lists to list of tuples\n",
    "edges = [tuple(pair) for pair in cascade_data[[\"source\", \"target\"]].values]"
   ]
  },
  {
   "cell_type": "code",
   "execution_count": 18,
   "id": "54d52093",
   "metadata": {},
   "outputs": [],
   "source": [
    "import igraph\n",
    "\n",
    "graph = igraph.Graph(directed=True)\n",
    "graph.add_vertices(nodes)\n",
    "graph.add_edges(edges)"
   ]
  },
  {
   "cell_type": "code",
   "execution_count": 19,
   "id": "26027572",
   "metadata": {},
   "outputs": [
    {
     "data": {
      "text/plain": [
       "['id', 'party', 'misinfo', 'bot', 'uid']"
      ]
     },
     "execution_count": 19,
     "metadata": {},
     "output_type": "execute_result"
    }
   ],
   "source": [
    "net.vs.attributes()"
   ]
  },
  {
   "cell_type": "code",
   "execution_count": 20,
   "id": "a2990b93",
   "metadata": {},
   "outputs": [],
   "source": [
    "og_nodes = [i for i in net.vs if i[\"uid\"] in nodes]"
   ]
  },
  {
   "cell_type": "code",
   "execution_count": 21,
   "id": "7be64eed",
   "metadata": {},
   "outputs": [],
   "source": [
    "VIZ_DIR = \"viz\"\n",
    "if not os.path.exists(VIZ_DIR):\n",
    "    os.makedirs(VIZ_DIR)\n",
    "# Set attributes of nodes from og graph data\n",
    "graph.vs[\"party\"] = [\n",
    "    float(node[\"party\"]) if node[\"party\"] != \"None\" else 0 for node in og_nodes\n",
    "]\n",
    "graph.vs[\"misinfo\"] = [\n",
    "    float(node[\"misinfo\"]) if node[\"party\"] != \"None\" else 100 for node in og_nodes\n",
    "]\n",
    "graph.vs[\"bot\"] = [int(node[\"bot\"]) for node in og_nodes]\n",
    "graph.write_gml(os.path.join(VIZ_DIR, f\"{message_type}_{message_id}__reshare.gml\"))"
   ]
  },
  {
   "cell_type": "code",
   "execution_count": 22,
   "id": "c6c6a5aa",
   "metadata": {
    "scrolled": true
   },
   "outputs": [
    {
     "data": {
      "text/plain": [
       "109"
      ]
     },
     "execution_count": 22,
     "metadata": {},
     "output_type": "execute_result"
    }
   ],
   "source": [
    "graph.vcount()"
   ]
  },
  {
   "cell_type": "code",
   "execution_count": 23,
   "id": "bbf9a306",
   "metadata": {},
   "outputs": [
    {
     "data": {
      "text/plain": [
       "[-0.0367808219178082,\n",
       " -0.168448,\n",
       " -0.539335,\n",
       " -0.169499090909091,\n",
       " 0.21498,\n",
       " 0.145421150592216,\n",
       " -0.272858620689655,\n",
       " 0.17007602739726,\n",
       " -0.285880357142857,\n",
       " -0.204786567164179,\n",
       " 0.403762790697674,\n",
       " -0.0453061855670103,\n",
       " -0.261586956521739,\n",
       " 0.201552631578947,\n",
       " -0.597488571428571,\n",
       " 0.3129925,\n",
       " 0.0682858536585366,\n",
       " 0.22887037037037,\n",
       " 0.238050746268657,\n",
       " -0.0571611650485436,\n",
       " 0.309016666666667,\n",
       " -0.190019811320755,\n",
       " 0.0830473958333333,\n",
       " 0.436367857142857,\n",
       " -0.146476543209876,\n",
       " -0.139589423076923,\n",
       " 0.362811818181818,\n",
       " -0.0691559523809523,\n",
       " -0.109097368421053,\n",
       " -0.185158333333333,\n",
       " -0.471924324324324,\n",
       " -0.245525949367089,\n",
       " -0.206176146788991,\n",
       " 0.269447619047619,\n",
       " -0.202001040118871,\n",
       " 0.236582716049383,\n",
       " -0.225775641025641,\n",
       " -0.196617994100295,\n",
       " 0.166508695652174,\n",
       " 0.285629078014184,\n",
       " 0.130035664335664,\n",
       " 0.17326393442623,\n",
       " 0.274369230769231,\n",
       " 0.248670058139535,\n",
       " -0.203657692307692,\n",
       " -0.138071917808219,\n",
       " 0.348021153846154,\n",
       " -0.167347619047619,\n",
       " 0.165636470588235,\n",
       " 0.132208108108108,\n",
       " -0.190740579710145,\n",
       " 0.0479237288135593,\n",
       " -0.123265853658537,\n",
       " -0.164633333333333,\n",
       " -0.0811680851063829,\n",
       " 0.571651282051282,\n",
       " 0.261880666666667,\n",
       " -0.100680769230769,\n",
       " -0.263135714285714,\n",
       " 0.207775789473684,\n",
       " -0.191728205128205,\n",
       " 0.454495454545454,\n",
       " -0.169223636363636,\n",
       " -0.144408333333333,\n",
       " -0.28502,\n",
       " 0.640723076923077,\n",
       " 0.293867307692308,\n",
       " 0.398728571428571,\n",
       " -0.146946666666667,\n",
       " 0.0722484375,\n",
       " -0.154078260869565,\n",
       " 0.181901639344262,\n",
       " -0.152046363636364,\n",
       " 0.47269375,\n",
       " 0.254690449438202,\n",
       " -0.146468644067797,\n",
       " -0.154996774193548,\n",
       " 0.146184,\n",
       " 0.509256420233463,\n",
       " -0.197206,\n",
       " -0.232455813953488,\n",
       " 0.125221568627451,\n",
       " -0.262829032258064,\n",
       " -0.338953846153846,\n",
       " 0.134385714285714,\n",
       " -0.242311111111111,\n",
       " -0.0180974193548387,\n",
       " -0.141847169811321,\n",
       " -0.110401754385965,\n",
       " -0.182431428571428,\n",
       " -0.130142918454936,\n",
       " 0.16042427184466,\n",
       " -0.195452459016393,\n",
       " 0.249071951219512,\n",
       " 0.0501011904761904,\n",
       " 0.238487081339713,\n",
       " 0.062856,\n",
       " 0.144670731707317,\n",
       " -0.202246774193548,\n",
       " -0.181384042553191,\n",
       " -0.67738,\n",
       " -0.154752777777778,\n",
       " -0.0367808219178082,\n",
       " -0.168448,\n",
       " -0.539335,\n",
       " -0.169499090909091,\n",
       " 0.21498,\n",
       " 0.145421150592216,\n",
       " -0.272858620689655]"
      ]
     },
     "execution_count": 23,
     "metadata": {},
     "output_type": "execute_result"
    }
   ],
   "source": [
    "# Check that attributes are properly saved\n",
    "c = ig.Graph.Read_GML(os.path.join(VIZ_DIR, f\"{message_type}_{message_id}__reshare.gml\"))\n",
    "c.vs[\"party\"]"
   ]
  }
 ],
 "metadata": {
  "kernelspec": {
   "display_name": "Python 3",
   "language": "python",
   "name": "python3"
  },
  "language_info": {
   "codemirror_mode": {
    "name": "ipython",
    "version": 3
   },
   "file_extension": ".py",
   "mimetype": "text/x-python",
   "name": "python",
   "nbconvert_exporter": "python",
   "pygments_lexer": "ipython3",
   "version": "3.8.16"
  }
 },
 "nbformat": 4,
 "nbformat_minor": 5
}
