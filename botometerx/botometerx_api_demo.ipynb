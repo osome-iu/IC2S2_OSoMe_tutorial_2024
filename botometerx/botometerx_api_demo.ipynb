{
 "cells": [
  {
   "cell_type": "markdown",
   "id": "0efab739-4d5c-424f-b49b-20cf737d8c7b",
   "metadata": {},
   "source": [
    "# Introduction"
   ]
  },
  {
   "cell_type": "markdown",
   "id": "7a9beeea-6dda-4df1-a39d-a0c1f0af3c63",
   "metadata": {},
   "source": [
    "This notebook contains the demonstration on how to query Botometer X's API to fetch botscores."
   ]
  },
  {
   "cell_type": "markdown",
   "id": "aaaf5bf2-66d5-407b-8276-b813f7e36a1f",
   "metadata": {},
   "source": [
    "# Preparation"
   ]
  },
  {
   "cell_type": "markdown",
   "id": "4c3055c8-18c3-4846-96fe-1f5432c643f5",
   "metadata": {},
   "source": [
    "To use the API, you need a free [RapidAPI](https://rapidapi.com/hub) account and subscribe to one of the [plans of Botometer](https://rapidapi.com/OSoMe/api/botometer-pro/pricing).\n",
    "\n",
    "You can copy paste your RapidAPI key to the file `api_key.json.template` and then rename it to `api_key.json`."
   ]
  },
  {
   "cell_type": "markdown",
   "id": "87f83ba2-6054-474e-a4eb-f3979806d2b4",
   "metadata": {},
   "source": [
    "We will use the [botometer Python package](https://github.com/osome-iu/botometer-python) for the demonstration.\n",
    "\n",
    "You can install the package with the following command:"
   ]
  },
  {
   "cell_type": "code",
   "execution_count": null,
   "id": "f984cbed-8dd7-4ae3-8b3d-a0f2b9aa5118",
   "metadata": {},
   "outputs": [],
   "source": [
    "%pip install botometer"
   ]
  },
  {
   "cell_type": "markdown",
   "id": "0eac5c83-5b54-4aeb-90fc-99aeddff29b1",
   "metadata": {},
   "source": [
    "Then you can import the required packages"
   ]
  },
  {
   "cell_type": "code",
   "execution_count": 2,
   "id": "c5c21e57-934f-4259-8e34-5384789ffd59",
   "metadata": {},
   "outputs": [],
   "source": [
    "import botometer"
   ]
  },
  {
   "cell_type": "markdown",
   "id": "2640bf5b-0807-4de7-9904-72025a5b8550",
   "metadata": {},
   "source": [
    "# Qurying the API"
   ]
  },
  {
   "cell_type": "markdown",
   "id": "15b88086-2840-4552-a402-eb4e359bf38b",
   "metadata": {},
   "source": [
    "## Load API key"
   ]
  },
  {
   "cell_type": "markdown",
   "id": "62c4d431-7a87-432e-90b3-7aa19cc1f87a",
   "metadata": {},
   "source": [
    "### Running locally"
   ]
  },
  {
   "cell_type": "code",
   "execution_count": 1,
   "id": "30da455f-c3bc-4b8d-b930-bc9d0bcbe0da",
   "metadata": {},
   "outputs": [],
   "source": [
    "import json"
   ]
  },
  {
   "cell_type": "code",
   "execution_count": 4,
   "id": "88583f12-ac0d-47f3-ae79-009e76070851",
   "metadata": {},
   "outputs": [],
   "source": [
    "with open(\"api_key.json\") as f:\n",
    "    api_key_obj = json.load(f)\n",
    "rapidapi_key = api_key_obj.get(\"rapidapi_key\")"
   ]
  },
  {
   "cell_type": "markdown",
   "id": "32b1a187-217e-43a4-9f01-ea8a1e058b4c",
   "metadata": {},
   "source": [
    "### Running on colab"
   ]
  },
  {
   "cell_type": "markdown",
   "id": "483d596e-20f6-4026-a09a-2104965e9a63",
   "metadata": {},
   "source": [
    "Set up an environment variable called `rapidapi_key` in Google Colab."
   ]
  },
  {
   "cell_type": "code",
   "execution_count": null,
   "id": "ed238942-5a7f-454c-9b58-cf249544f0e8",
   "metadata": {},
   "outputs": [],
   "source": [
    "from google.colab import userdata\n",
    "rapidapi_key = userdata.get('rapidapi_key')"
   ]
  },
  {
   "cell_type": "markdown",
   "id": "e28f76e0-678a-43ee-bc45-813594c14c23",
   "metadata": {},
   "source": [
    "Then, we can create an instance of the BotometerX class."
   ]
  },
  {
   "cell_type": "code",
   "execution_count": 5,
   "id": "7e0909ee-7e7f-4284-88cb-1168403d1581",
   "metadata": {},
   "outputs": [],
   "source": [
    "bomx = botometer.BotometerX(rapidapi_key=rapidapi_key)"
   ]
  },
  {
   "cell_type": "markdown",
   "id": "08cab728-40a5-445c-abfb-707163ac332b",
   "metadata": {},
   "source": [
    "Check accounts by usernames, note that @ is optional"
   ]
  },
  {
   "cell_type": "code",
   "execution_count": 6,
   "id": "fb9b5517-3303-46db-81de-eae7e9e95d1b",
   "metadata": {},
   "outputs": [
    {
     "data": {
      "text/plain": [
       "[{'bot_score': 0.09,\n",
       "  'timestamp': 'Sat, 27 May 2023 23:57:16 GMT',\n",
       "  'user_id': '2451308594',\n",
       "  'username': 'Botometer'},\n",
       " {'bot_score': 0.21,\n",
       "  'timestamp': 'Thu, 25 May 2023 22:54:53 GMT',\n",
       "  'user_id': '187521608',\n",
       "  'username': 'OSoMe_IU'}]"
      ]
     },
     "execution_count": 6,
     "metadata": {},
     "output_type": "execute_result"
    }
   ],
   "source": [
    "bomx.get_botscores_in_batch(usernames=['@OSoMe_IU', 'botometer'])"
   ]
  },
  {
   "cell_type": "markdown",
   "id": "bede0fc7-5591-4571-a2c4-bf7a0d6ed944",
   "metadata": {},
   "source": [
    "Check accounts by ids"
   ]
  },
  {
   "cell_type": "code",
   "execution_count": 8,
   "id": "fc03b194-be15-4e78-b735-c32f954de11b",
   "metadata": {},
   "outputs": [
    {
     "data": {
      "text/plain": [
       "[{'bot_score': 0.21,\n",
       "  'timestamp': 'Thu, 25 May 2023 22:54:53 GMT',\n",
       "  'user_id': '187521608',\n",
       "  'username': 'OSoMe_IU'},\n",
       " {'bot_score': 0.09,\n",
       "  'timestamp': 'Sat, 27 May 2023 23:57:16 GMT',\n",
       "  'user_id': '2451308594',\n",
       "  'username': 'Botometer'}]"
      ]
     },
     "execution_count": 8,
     "metadata": {},
     "output_type": "execute_result"
    }
   ],
   "source": [
    "bomx.get_botscores_in_batch(user_ids=[2451308594, 187521608])"
   ]
  },
  {
   "cell_type": "markdown",
   "id": "295369a2-5f22-4374-9066-667fee2061f5",
   "metadata": {},
   "source": [
    "Check accounts by both usernames and ids"
   ]
  },
  {
   "cell_type": "code",
   "execution_count": 10,
   "id": "925d0e45-b295-4f77-a9f8-e9b5686f6117",
   "metadata": {},
   "outputs": [
    {
     "data": {
      "text/plain": [
       "[{'bot_score': 0.21,\n",
       "  'timestamp': 'Thu, 25 May 2023 22:54:53 GMT',\n",
       "  'user_id': '187521608',\n",
       "  'username': 'OSoMe_IU'},\n",
       " {'bot_score': 0.09,\n",
       "  'timestamp': 'Sat, 27 May 2023 23:57:16 GMT',\n",
       "  'user_id': '2451308594',\n",
       "  'username': 'Botometer'}]"
      ]
     },
     "execution_count": 10,
     "metadata": {},
     "output_type": "execute_result"
    }
   ],
   "source": [
    "bomx.get_botscores_in_batch(usernames=['@OSoMe_IU'], user_ids=[2451308594])"
   ]
  }
 ],
 "metadata": {
  "kernelspec": {
   "display_name": "Python 3 (ipykernel)",
   "language": "python",
   "name": "python3"
  },
  "language_info": {
   "codemirror_mode": {
    "name": "ipython",
    "version": 3
   },
   "file_extension": ".py",
   "mimetype": "text/x-python",
   "name": "python",
   "nbconvert_exporter": "python",
   "pygments_lexer": "ipython3",
   "version": "3.10.12"
  }
 },
 "nbformat": 4,
 "nbformat_minor": 5
}
