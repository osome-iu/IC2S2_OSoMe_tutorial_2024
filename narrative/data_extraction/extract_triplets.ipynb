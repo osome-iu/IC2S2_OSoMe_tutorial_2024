{
 "cells": [
  {
   "cell_type": "markdown",
   "metadata": {},
   "source": [
    "# 0. What kind of narrative are we talk about?\n",
    "\n",
    "The most common approaches to narrative discovery are keyword-based and\n",
    "topic-modeling methods. \n",
    "* **Keyword-based**   \n",
    "focuses on sets of\n",
    "coherent individual tokens, or keywords (e.g., Lazard et al.\n",
    "2015), as a narrative.\n",
    "\n",
    "* **Topic-modeling**   \n",
    "discovers “topics”—\n",
    "another proxy of narrative—each of which is a probability distribution over tokens. Latent Dirichlet Allocation (Blei, Ng, and Jordan 2003) and its variations (Yu\n",
    "et al. 2019; Yu and Qiu 2019), including a BERT-based\n",
    "model (Grootendorst 2022), and matrix factorization methods like NMF (Lee and Seung 2000) are commonly used.\n",
    "\n",
    "\n",
    "However, despite the great utility of these methods and the\n",
    "fact that keywords and topics are crucial elements of a narrative, **they are still not equivalent to narratives**.\n",
    "One useful way to conceptualize is that narratives contain **actors, motives** (Dourish and\n",
    "Gómez Cruz 2018). This is intimately related to semantic role labeling (SRL),\n",
    "which identifies triplets of   \n",
    "\n",
    "<img style=\"float: left;\" src=\"../figs/Action_Agent_Patient.png\" width=\"350\">  \n"
   ]
  },
  {
   "cell_type": "markdown",
   "metadata": {},
   "source": [
    "\n",
    "For example, the sentence **\"I love this coffee shop\"**,    \n",
    "contains a triplet of     \n",
    "<img style=\"float: left;\" src=\"../figs/I_love_coffeeShop.png\" width=\"450\">\n",
    "\n"
   ]
  },
  {
   "cell_type": "markdown",
   "metadata": {},
   "source": [
    "# 1. Set up the environment"
   ]
  },
  {
   "cell_type": "code",
   "execution_count": null,
   "metadata": {
    "scrolled": false
   },
   "outputs": [],
   "source": [
    "%pip install allennlp\n",
    "%pip install allennlp-models\n",
    "%pip install ordered-set\n",
    "%pip install spacy\n",
    "%pip install nltk\n",
    "%pip install networkx pyvis pandas"
   ]
  },
  {
   "cell_type": "code",
   "execution_count": null,
   "metadata": {},
   "outputs": [],
   "source": [
    "!python -m spacy download en_core_web_sm"
   ]
  },
  {
   "cell_type": "markdown",
   "metadata": {},
   "source": [
    "# 2.What is Semantic Role Labeling \n",
    "\n",
    "The aim is to identify all elements that fulfill a semantic role in relation to this verb and to determine their specific roles, such as Agent, Patient, or Instrument, as well as their adjuncts, like Locative, Temporal, or Manner. For instance, in the sentence \"Mary sold the book to John,\" the verb predicate is \"sold.\" Here, \"Mary\" acts as the agent of the predicate, performing the action on \"the book,\" which is transferred to the recipient \"John.\" The diversity of sentence structures makes Semantic Role Labeling (SRL) a fascinating and challenging task."
   ]
  },
  {
   "cell_type": "markdown",
   "metadata": {},
   "source": [
    "<img style=\"float: left;\" src=\"../figs/SRL_demo.png\" width=\"450\">"
   ]
  },
  {
   "cell_type": "markdown",
   "metadata": {},
   "source": [
    "### You might want to explore the online demo and experiment with it.\n",
    "\n",
    "https://cogcomp.seas.upenn.edu/page/demo_view/SRLEnglish"
   ]
  },
  {
   "cell_type": "markdown",
   "metadata": {},
   "source": [
    "# 3. Deploy SRL using AllenNLP"
   ]
  },
  {
   "cell_type": "code",
   "execution_count": 9,
   "metadata": {},
   "outputs": [
    {
     "data": {
      "text/plain": [
       "<spacy.lang.en.English at 0x7f118fddffa0>"
      ]
     },
     "execution_count": 9,
     "metadata": {},
     "output_type": "execute_result"
    }
   ],
   "source": [
    "from allennlp.predictors import Predictor\n",
    "import spacy\n",
    "spacy.load('en_core_web_sm')"
   ]
  },
  {
   "cell_type": "code",
   "execution_count": 10,
   "metadata": {},
   "outputs": [],
   "source": [
    "sentence = \"The NBA (National Basketball Association) is a professional basketball league in North America, featuring the best players in the world competing in exciting games.\""
   ]
  },
  {
   "cell_type": "markdown",
   "metadata": {},
   "source": [
    "### It would be better to download the pre-trained model locally beforehand.\n",
    "https://storage.googleapis.com/allennlp-public-models/structured-prediction-srl-bert.2020.12.15.tar.gz"
   ]
  },
  {
   "cell_type": "code",
   "execution_count": null,
   "metadata": {},
   "outputs": [],
   "source": [
    "local_path = \"https://storage.googleapis.com/allennlp-public-models/structured-prediction-srl-bert.2020.12.15.tar.gz\"\n",
    "predictor = Predictor.from_path(local_path)"
   ]
  },
  {
   "cell_type": "code",
   "execution_count": 12,
   "metadata": {},
   "outputs": [],
   "source": [
    "value= predictor.predict(sentence)"
   ]
  },
  {
   "cell_type": "code",
   "execution_count": 13,
   "metadata": {},
   "outputs": [
    {
     "data": {
      "text/plain": [
       "{'verbs': [{'verb': 'is',\n",
       "   'description': '[ARG1: The NBA ( National Basketball Association )] [V: is] [ARG2: a professional basketball league in North America] , [ARGM-PRD: featuring the best players in the world competing in exciting games] .',\n",
       "   'tags': ['B-ARG1',\n",
       "    'I-ARG1',\n",
       "    'I-ARG1',\n",
       "    'I-ARG1',\n",
       "    'I-ARG1',\n",
       "    'I-ARG1',\n",
       "    'I-ARG1',\n",
       "    'B-V',\n",
       "    'B-ARG2',\n",
       "    'I-ARG2',\n",
       "    'I-ARG2',\n",
       "    'I-ARG2',\n",
       "    'I-ARG2',\n",
       "    'I-ARG2',\n",
       "    'I-ARG2',\n",
       "    'O',\n",
       "    'B-ARGM-PRD',\n",
       "    'I-ARGM-PRD',\n",
       "    'I-ARGM-PRD',\n",
       "    'I-ARGM-PRD',\n",
       "    'I-ARGM-PRD',\n",
       "    'I-ARGM-PRD',\n",
       "    'I-ARGM-PRD',\n",
       "    'I-ARGM-PRD',\n",
       "    'I-ARGM-PRD',\n",
       "    'I-ARGM-PRD',\n",
       "    'I-ARGM-PRD',\n",
       "    'O']},\n",
       "  {'verb': 'featuring',\n",
       "   'description': 'The NBA ( National Basketball Association ) is [ARG0: a professional basketball league in North America] , [V: featuring] [ARG1: the best players in the world competing in exciting games] .',\n",
       "   'tags': ['O',\n",
       "    'O',\n",
       "    'O',\n",
       "    'O',\n",
       "    'O',\n",
       "    'O',\n",
       "    'O',\n",
       "    'O',\n",
       "    'B-ARG0',\n",
       "    'I-ARG0',\n",
       "    'I-ARG0',\n",
       "    'I-ARG0',\n",
       "    'I-ARG0',\n",
       "    'I-ARG0',\n",
       "    'I-ARG0',\n",
       "    'O',\n",
       "    'B-V',\n",
       "    'B-ARG1',\n",
       "    'I-ARG1',\n",
       "    'I-ARG1',\n",
       "    'I-ARG1',\n",
       "    'I-ARG1',\n",
       "    'I-ARG1',\n",
       "    'I-ARG1',\n",
       "    'I-ARG1',\n",
       "    'I-ARG1',\n",
       "    'I-ARG1',\n",
       "    'O']},\n",
       "  {'verb': 'competing',\n",
       "   'description': 'The NBA ( National Basketball Association ) is a professional basketball league in North America , featuring [ARG0: the best players in the world] [V: competing] [ARGM-LOC: in exciting games] .',\n",
       "   'tags': ['O',\n",
       "    'O',\n",
       "    'O',\n",
       "    'O',\n",
       "    'O',\n",
       "    'O',\n",
       "    'O',\n",
       "    'O',\n",
       "    'O',\n",
       "    'O',\n",
       "    'O',\n",
       "    'O',\n",
       "    'O',\n",
       "    'O',\n",
       "    'O',\n",
       "    'O',\n",
       "    'O',\n",
       "    'B-ARG0',\n",
       "    'I-ARG0',\n",
       "    'I-ARG0',\n",
       "    'I-ARG0',\n",
       "    'I-ARG0',\n",
       "    'I-ARG0',\n",
       "    'B-V',\n",
       "    'B-ARGM-LOC',\n",
       "    'I-ARGM-LOC',\n",
       "    'I-ARGM-LOC',\n",
       "    'O']}],\n",
       " 'words': ['The',\n",
       "  'NBA',\n",
       "  '(',\n",
       "  'National',\n",
       "  'Basketball',\n",
       "  'Association',\n",
       "  ')',\n",
       "  'is',\n",
       "  'a',\n",
       "  'professional',\n",
       "  'basketball',\n",
       "  'league',\n",
       "  'in',\n",
       "  'North',\n",
       "  'America',\n",
       "  ',',\n",
       "  'featuring',\n",
       "  'the',\n",
       "  'best',\n",
       "  'players',\n",
       "  'in',\n",
       "  'the',\n",
       "  'world',\n",
       "  'competing',\n",
       "  'in',\n",
       "  'exciting',\n",
       "  'games',\n",
       "  '.']}"
      ]
     },
     "execution_count": 13,
     "metadata": {},
     "output_type": "execute_result"
    }
   ],
   "source": [
    "value"
   ]
  },
  {
   "cell_type": "markdown",
   "metadata": {},
   "source": [
    "### As you can see,   \n",
    "the predictions from SRL return a JSON structure that identifies the core verbs in the sentence and their corresponding semantic roles. In our example sentence, two core verbs were detected:\n",
    "\n",
    "##### raw sentence:  \n",
    "\"The NBA (National Basketball Association) is a professional basketball league in North America, featuring the best players in the world competing in exciting games.\"\n",
    "\n",
    "##### description:   \n",
    "* [ARG0: a professional basketball league in North America] , **[V: featuring]** [ARG1: the best players in the world competing in exciting games] .'  \n",
    "\n",
    "\n",
    "* [ARG0: the best players in the world] **[V: competing]** [ARGM-LOC: in exciting games] .'"
   ]
  },
  {
   "cell_type": "markdown",
   "metadata": {},
   "source": [
    "### AllenNLP uses PropBank Annotation,   \n",
    "where each verb sense has numbered arguments such as ARG-0, ARG-1, ARG-TMP, and ARG-LOC. For more details, please check [this article](https://medium.com/@ajazturki10/allennlp-dependency-parsing-semantic-role-labelling-coreference-resolution-70637afbe8cf). \n",
    "\n",
    "Given that we want to extract   \n",
    "<img style=\"float: left;\" src=\"../figs/Action_Agent_Patient.png\" width=\"350\">  \n",
    "\n",
    "\n",
    "\n"
   ]
  },
  {
   "cell_type": "markdown",
   "metadata": {},
   "source": [
    "And in Semantic Role Labeling   \n",
    "<img style=\"float: left;\" src=\"../figs/ARG01.png\" width=\"250\"> \n"
   ]
  },
  {
   "cell_type": "markdown",
   "metadata": {},
   "source": [
    "Therefore, we will keep the first description since it includes the parts we need. \n",
    "* [ARG0: a professional basketball league in North America] , **[V: featuring]** [ARG1: the best players in the world competing in exciting games] .' "
   ]
  },
  {
   "cell_type": "markdown",
   "metadata": {},
   "source": [
    "# 4. Aggregate narrative triplets"
   ]
  },
  {
   "cell_type": "markdown",
   "metadata": {},
   "source": [
    "We collect narrative triplets with similar semantic meanings and then apply clustering methods to aggregate them into a more concise form. For detailed implementation, please refer to our paper [*Discovering Collective Narrative Shifts in Online Discussions*](https://ojs.aaai.org/index.php/ICWSM/article/view/31427), or visit the [GitHub repository](https://github.com/wanyingzhao/collective_narrative_shift/tree/main) for more information on implementation details.\n",
    "\n",
    "For example, with sentence \"CDC Confirms First US Coronavirus Case\"\n",
    "\n",
    "* The Centers for Disease Control and Prevention (CDC) has reported the initial known case of the coronavirus in the United States.\n",
    "* The CDC has officially verified the first incidence of coronavirus within the US.\n",
    "* In the United States, the initial case of coronavirus has been confirmed by the CDC.\n",
    "* The CDC has confirmed the first documented case of coronavirus in the US.\n",
    "* The first known case of coronavirus within the United States has been validated by the CDC.\n",
    "* The CDC has announced that the first case of coronavirus within the US has been confirmed.\n",
    "* A person in the United States has been identified with coronavirus, as confirmed by the CDC.\n",
    "* The CDC has verified the first instance of coronavirus in the US.\n",
    "* The initial incidence of coronavirus in the United States has been validated by the CDC.\n",
    "* The CDC has confirmed the first recorded case of coronavirus within the United States.\n",
    "\n",
    "could be aggregated into triplet  \n",
    "\n",
    "<img style=\"float: left;\" src=\"../figs/cdc_confirm_us_covid.png\" width=\"450\"> \n"
   ]
  },
  {
   "cell_type": "code",
   "execution_count": null,
   "metadata": {},
   "outputs": [],
   "source": []
  },
  {
   "cell_type": "code",
   "execution_count": null,
   "metadata": {},
   "outputs": [],
   "source": []
  }
 ],
 "metadata": {
  "kernelspec": {
   "display_name": "Python 3 (ipykernel)",
   "language": "python",
   "name": "python3"
  },
  "language_info": {
   "codemirror_mode": {
    "name": "ipython",
    "version": 3
   },
   "file_extension": ".py",
   "mimetype": "text/x-python",
   "name": "python",
   "nbconvert_exporter": "python",
   "pygments_lexer": "ipython3",
   "version": "3.8.10"
  }
 },
 "nbformat": 4,
 "nbformat_minor": 5
}
